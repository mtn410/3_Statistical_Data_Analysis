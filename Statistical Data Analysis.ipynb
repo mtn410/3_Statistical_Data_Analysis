{
 "cells": [
  {
   "cell_type": "markdown",
   "metadata": {},
   "source": [
    "# Statistical Data Analysis Project\n",
    "# Research on telecom prepaid plans\n",
    "\n",
    "I work as an analyst for the telecom operator Megaline. The company offers its clients two prepaid plans, Surf and Ultimate. The commercial department wants to know which of the plans brings in more revenue in order to adjust the advertising budget.\n",
    "\n",
    "My goal is to analyze behavior of 500 Megaline customers from 2018 and determine which plan brings more revenue. "
   ]
  },
  {
   "cell_type": "markdown",
   "metadata": {},
   "source": [
    "## Open the data file and study the general information. "
   ]
  },
  {
   "cell_type": "markdown",
   "metadata": {},
   "source": [
    "### Read the data file and import the necessary libraries:"
   ]
  },
  {
   "cell_type": "code",
   "execution_count": 1,
   "metadata": {},
   "outputs": [
    {
     "name": "stdout",
     "output_type": "stream",
     "text": [
      "Files read successfully\n"
     ]
    }
   ],
   "source": [
    "import pandas as pd\n",
    "import numpy as np\n",
    "import matplotlib.pyplot as plt\n",
    "from functools import reduce\n",
    "from scipy import stats as st\n",
    "%matplotlib inline\n",
    "\n",
    "\n",
    "\n",
    "try:\n",
    "    df_internet = pd.read_csv('megaline_internet.csv')\n",
    "    df_users = pd.read_csv('megaline_users.csv')\n",
    "    df_calls = pd.read_csv('megaline_calls.csv')\n",
    "    df_messages = pd.read_csv('megaline_messages.csv')\n",
    "    df_plans = pd.read_csv('megaline_plans.csv')\n",
    "except:\n",
    "    df_internet = pd.read_csv('/datasets/megaline_internet.csv')\n",
    "    df_users = pd.read_csv('/datasets/megaline_users.csv')\n",
    "    df_calls = pd.read_csv('/datasets/megaline_calls.csv')\n",
    "    df_messages = pd.read_csv('/datasets/megaline_messages.csv')\n",
    "    df_plans = pd.read_csv('/datasets/megaline_plans.csv')\n",
    "\n",
    "print('Files read successfully')"
   ]
  },
  {
   "cell_type": "markdown",
   "metadata": {},
   "source": [
    "### 1. Study the general information:"
   ]
  },
  {
   "cell_type": "markdown",
   "metadata": {},
   "source": [
    "**Users:**"
   ]
  },
  {
   "cell_type": "code",
   "execution_count": 2,
   "metadata": {},
   "outputs": [
    {
     "data": {
      "text/html": [
       "<div>\n",
       "<style scoped>\n",
       "    .dataframe tbody tr th:only-of-type {\n",
       "        vertical-align: middle;\n",
       "    }\n",
       "\n",
       "    .dataframe tbody tr th {\n",
       "        vertical-align: top;\n",
       "    }\n",
       "\n",
       "    .dataframe thead th {\n",
       "        text-align: right;\n",
       "    }\n",
       "</style>\n",
       "<table border=\"1\" class=\"dataframe\">\n",
       "  <thead>\n",
       "    <tr style=\"text-align: right;\">\n",
       "      <th></th>\n",
       "      <th>user_id</th>\n",
       "      <th>first_name</th>\n",
       "      <th>last_name</th>\n",
       "      <th>age</th>\n",
       "      <th>city</th>\n",
       "      <th>reg_date</th>\n",
       "      <th>plan</th>\n",
       "      <th>churn_date</th>\n",
       "    </tr>\n",
       "  </thead>\n",
       "  <tbody>\n",
       "    <tr>\n",
       "      <td>0</td>\n",
       "      <td>1000</td>\n",
       "      <td>Anamaria</td>\n",
       "      <td>Bauer</td>\n",
       "      <td>45</td>\n",
       "      <td>Atlanta-Sandy Springs-Roswell, GA MSA</td>\n",
       "      <td>2018-12-24</td>\n",
       "      <td>ultimate</td>\n",
       "      <td>NaN</td>\n",
       "    </tr>\n",
       "    <tr>\n",
       "      <td>1</td>\n",
       "      <td>1001</td>\n",
       "      <td>Mickey</td>\n",
       "      <td>Wilkerson</td>\n",
       "      <td>28</td>\n",
       "      <td>Seattle-Tacoma-Bellevue, WA MSA</td>\n",
       "      <td>2018-08-13</td>\n",
       "      <td>surf</td>\n",
       "      <td>NaN</td>\n",
       "    </tr>\n",
       "    <tr>\n",
       "      <td>2</td>\n",
       "      <td>1002</td>\n",
       "      <td>Carlee</td>\n",
       "      <td>Hoffman</td>\n",
       "      <td>36</td>\n",
       "      <td>Las Vegas-Henderson-Paradise, NV MSA</td>\n",
       "      <td>2018-10-21</td>\n",
       "      <td>surf</td>\n",
       "      <td>NaN</td>\n",
       "    </tr>\n",
       "    <tr>\n",
       "      <td>3</td>\n",
       "      <td>1003</td>\n",
       "      <td>Reynaldo</td>\n",
       "      <td>Jenkins</td>\n",
       "      <td>52</td>\n",
       "      <td>Tulsa, OK MSA</td>\n",
       "      <td>2018-01-28</td>\n",
       "      <td>surf</td>\n",
       "      <td>NaN</td>\n",
       "    </tr>\n",
       "    <tr>\n",
       "      <td>4</td>\n",
       "      <td>1004</td>\n",
       "      <td>Leonila</td>\n",
       "      <td>Thompson</td>\n",
       "      <td>40</td>\n",
       "      <td>Seattle-Tacoma-Bellevue, WA MSA</td>\n",
       "      <td>2018-05-23</td>\n",
       "      <td>surf</td>\n",
       "      <td>NaN</td>\n",
       "    </tr>\n",
       "    <tr>\n",
       "      <td>5</td>\n",
       "      <td>1005</td>\n",
       "      <td>Livia</td>\n",
       "      <td>Shields</td>\n",
       "      <td>31</td>\n",
       "      <td>Dallas-Fort Worth-Arlington, TX MSA</td>\n",
       "      <td>2018-11-29</td>\n",
       "      <td>surf</td>\n",
       "      <td>NaN</td>\n",
       "    </tr>\n",
       "    <tr>\n",
       "      <td>6</td>\n",
       "      <td>1006</td>\n",
       "      <td>Jesusa</td>\n",
       "      <td>Bradford</td>\n",
       "      <td>73</td>\n",
       "      <td>San Francisco-Oakland-Berkeley, CA MSA</td>\n",
       "      <td>2018-11-27</td>\n",
       "      <td>ultimate</td>\n",
       "      <td>2018-12-18</td>\n",
       "    </tr>\n",
       "    <tr>\n",
       "      <td>7</td>\n",
       "      <td>1007</td>\n",
       "      <td>Eusebio</td>\n",
       "      <td>Welch</td>\n",
       "      <td>42</td>\n",
       "      <td>Grand Rapids-Kentwood, MI MSA</td>\n",
       "      <td>2018-07-11</td>\n",
       "      <td>surf</td>\n",
       "      <td>NaN</td>\n",
       "    </tr>\n",
       "    <tr>\n",
       "      <td>8</td>\n",
       "      <td>1008</td>\n",
       "      <td>Emely</td>\n",
       "      <td>Hoffman</td>\n",
       "      <td>53</td>\n",
       "      <td>Orlando-Kissimmee-Sanford, FL MSA</td>\n",
       "      <td>2018-08-03</td>\n",
       "      <td>ultimate</td>\n",
       "      <td>NaN</td>\n",
       "    </tr>\n",
       "    <tr>\n",
       "      <td>9</td>\n",
       "      <td>1009</td>\n",
       "      <td>Gerry</td>\n",
       "      <td>Little</td>\n",
       "      <td>19</td>\n",
       "      <td>San Jose-Sunnyvale-Santa Clara, CA MSA</td>\n",
       "      <td>2018-04-22</td>\n",
       "      <td>surf</td>\n",
       "      <td>NaN</td>\n",
       "    </tr>\n",
       "  </tbody>\n",
       "</table>\n",
       "</div>"
      ],
      "text/plain": [
       "   user_id first_name  last_name  age                                    city  \\\n",
       "0     1000   Anamaria      Bauer   45   Atlanta-Sandy Springs-Roswell, GA MSA   \n",
       "1     1001     Mickey  Wilkerson   28         Seattle-Tacoma-Bellevue, WA MSA   \n",
       "2     1002     Carlee    Hoffman   36    Las Vegas-Henderson-Paradise, NV MSA   \n",
       "3     1003   Reynaldo    Jenkins   52                           Tulsa, OK MSA   \n",
       "4     1004    Leonila   Thompson   40         Seattle-Tacoma-Bellevue, WA MSA   \n",
       "5     1005      Livia    Shields   31     Dallas-Fort Worth-Arlington, TX MSA   \n",
       "6     1006     Jesusa   Bradford   73  San Francisco-Oakland-Berkeley, CA MSA   \n",
       "7     1007    Eusebio      Welch   42           Grand Rapids-Kentwood, MI MSA   \n",
       "8     1008      Emely    Hoffman   53       Orlando-Kissimmee-Sanford, FL MSA   \n",
       "9     1009      Gerry     Little   19  San Jose-Sunnyvale-Santa Clara, CA MSA   \n",
       "\n",
       "     reg_date      plan  churn_date  \n",
       "0  2018-12-24  ultimate         NaN  \n",
       "1  2018-08-13      surf         NaN  \n",
       "2  2018-10-21      surf         NaN  \n",
       "3  2018-01-28      surf         NaN  \n",
       "4  2018-05-23      surf         NaN  \n",
       "5  2018-11-29      surf         NaN  \n",
       "6  2018-11-27  ultimate  2018-12-18  \n",
       "7  2018-07-11      surf         NaN  \n",
       "8  2018-08-03  ultimate         NaN  \n",
       "9  2018-04-22      surf         NaN  "
      ]
     },
     "execution_count": 2,
     "metadata": {},
     "output_type": "execute_result"
    }
   ],
   "source": [
    "df_users.head(10)"
   ]
  },
  {
   "cell_type": "markdown",
   "metadata": {},
   "source": [
    "NaN 'churn_date' values indicate that the calling plan was being used when this data was retrieved. I'll replace NaN values with matching string later."
   ]
  },
  {
   "cell_type": "code",
   "execution_count": 3,
   "metadata": {},
   "outputs": [
    {
     "name": "stdout",
     "output_type": "stream",
     "text": [
      "<class 'pandas.core.frame.DataFrame'>\n",
      "RangeIndex: 500 entries, 0 to 499\n",
      "Data columns (total 8 columns):\n",
      "user_id       500 non-null int64\n",
      "first_name    500 non-null object\n",
      "last_name     500 non-null object\n",
      "age           500 non-null int64\n",
      "city          500 non-null object\n",
      "reg_date      500 non-null object\n",
      "plan          500 non-null object\n",
      "churn_date    34 non-null object\n",
      "dtypes: int64(2), object(6)\n",
      "memory usage: 31.4+ KB\n"
     ]
    }
   ],
   "source": [
    "df_users.info()"
   ]
  },
  {
   "cell_type": "markdown",
   "metadata": {},
   "source": [
    "No missing values (we addressed churn_date situation before). I'll change both date columns data type to datetime type. "
   ]
  },
  {
   "cell_type": "code",
   "execution_count": 4,
   "metadata": {},
   "outputs": [
    {
     "data": {
      "text/html": [
       "<div>\n",
       "<style scoped>\n",
       "    .dataframe tbody tr th:only-of-type {\n",
       "        vertical-align: middle;\n",
       "    }\n",
       "\n",
       "    .dataframe tbody tr th {\n",
       "        vertical-align: top;\n",
       "    }\n",
       "\n",
       "    .dataframe thead th {\n",
       "        text-align: right;\n",
       "    }\n",
       "</style>\n",
       "<table border=\"1\" class=\"dataframe\">\n",
       "  <thead>\n",
       "    <tr style=\"text-align: right;\">\n",
       "      <th></th>\n",
       "      <th>user_id</th>\n",
       "      <th>age</th>\n",
       "    </tr>\n",
       "  </thead>\n",
       "  <tbody>\n",
       "    <tr>\n",
       "      <td>count</td>\n",
       "      <td>500.000000</td>\n",
       "      <td>500.000000</td>\n",
       "    </tr>\n",
       "    <tr>\n",
       "      <td>mean</td>\n",
       "      <td>1249.500000</td>\n",
       "      <td>45.486000</td>\n",
       "    </tr>\n",
       "    <tr>\n",
       "      <td>std</td>\n",
       "      <td>144.481833</td>\n",
       "      <td>16.972269</td>\n",
       "    </tr>\n",
       "    <tr>\n",
       "      <td>min</td>\n",
       "      <td>1000.000000</td>\n",
       "      <td>18.000000</td>\n",
       "    </tr>\n",
       "    <tr>\n",
       "      <td>25%</td>\n",
       "      <td>1124.750000</td>\n",
       "      <td>30.000000</td>\n",
       "    </tr>\n",
       "    <tr>\n",
       "      <td>50%</td>\n",
       "      <td>1249.500000</td>\n",
       "      <td>46.000000</td>\n",
       "    </tr>\n",
       "    <tr>\n",
       "      <td>75%</td>\n",
       "      <td>1374.250000</td>\n",
       "      <td>61.000000</td>\n",
       "    </tr>\n",
       "    <tr>\n",
       "      <td>max</td>\n",
       "      <td>1499.000000</td>\n",
       "      <td>75.000000</td>\n",
       "    </tr>\n",
       "  </tbody>\n",
       "</table>\n",
       "</div>"
      ],
      "text/plain": [
       "           user_id         age\n",
       "count   500.000000  500.000000\n",
       "mean   1249.500000   45.486000\n",
       "std     144.481833   16.972269\n",
       "min    1000.000000   18.000000\n",
       "25%    1124.750000   30.000000\n",
       "50%    1249.500000   46.000000\n",
       "75%    1374.250000   61.000000\n",
       "max    1499.000000   75.000000"
      ]
     },
     "execution_count": 4,
     "metadata": {},
     "output_type": "execute_result"
    }
   ],
   "source": [
    "df_users.describe()"
   ]
  },
  {
   "cell_type": "markdown",
   "metadata": {},
   "source": [
    "We have 500 rows of user data, no visible outliers in the age column data. We have 500 users, aged 18 through 75, with a mean of 45 and median of 46. "
   ]
  },
  {
   "cell_type": "markdown",
   "metadata": {},
   "source": [
    "**Calls:**"
   ]
  },
  {
   "cell_type": "code",
   "execution_count": 5,
   "metadata": {},
   "outputs": [
    {
     "data": {
      "text/html": [
       "<div>\n",
       "<style scoped>\n",
       "    .dataframe tbody tr th:only-of-type {\n",
       "        vertical-align: middle;\n",
       "    }\n",
       "\n",
       "    .dataframe tbody tr th {\n",
       "        vertical-align: top;\n",
       "    }\n",
       "\n",
       "    .dataframe thead th {\n",
       "        text-align: right;\n",
       "    }\n",
       "</style>\n",
       "<table border=\"1\" class=\"dataframe\">\n",
       "  <thead>\n",
       "    <tr style=\"text-align: right;\">\n",
       "      <th></th>\n",
       "      <th>id</th>\n",
       "      <th>user_id</th>\n",
       "      <th>call_date</th>\n",
       "      <th>duration</th>\n",
       "    </tr>\n",
       "  </thead>\n",
       "  <tbody>\n",
       "    <tr>\n",
       "      <td>0</td>\n",
       "      <td>1000_93</td>\n",
       "      <td>1000</td>\n",
       "      <td>2018-12-27</td>\n",
       "      <td>8.52</td>\n",
       "    </tr>\n",
       "    <tr>\n",
       "      <td>1</td>\n",
       "      <td>1000_145</td>\n",
       "      <td>1000</td>\n",
       "      <td>2018-12-27</td>\n",
       "      <td>13.66</td>\n",
       "    </tr>\n",
       "    <tr>\n",
       "      <td>2</td>\n",
       "      <td>1000_247</td>\n",
       "      <td>1000</td>\n",
       "      <td>2018-12-27</td>\n",
       "      <td>14.48</td>\n",
       "    </tr>\n",
       "    <tr>\n",
       "      <td>3</td>\n",
       "      <td>1000_309</td>\n",
       "      <td>1000</td>\n",
       "      <td>2018-12-28</td>\n",
       "      <td>5.76</td>\n",
       "    </tr>\n",
       "    <tr>\n",
       "      <td>4</td>\n",
       "      <td>1000_380</td>\n",
       "      <td>1000</td>\n",
       "      <td>2018-12-30</td>\n",
       "      <td>4.22</td>\n",
       "    </tr>\n",
       "  </tbody>\n",
       "</table>\n",
       "</div>"
      ],
      "text/plain": [
       "         id  user_id   call_date  duration\n",
       "0   1000_93     1000  2018-12-27      8.52\n",
       "1  1000_145     1000  2018-12-27     13.66\n",
       "2  1000_247     1000  2018-12-27     14.48\n",
       "3  1000_309     1000  2018-12-28      5.76\n",
       "4  1000_380     1000  2018-12-30      4.22"
      ]
     },
     "execution_count": 5,
     "metadata": {},
     "output_type": "execute_result"
    }
   ],
   "source": [
    "df_calls.head()"
   ]
  },
  {
   "cell_type": "code",
   "execution_count": 6,
   "metadata": {},
   "outputs": [
    {
     "name": "stdout",
     "output_type": "stream",
     "text": [
      "<class 'pandas.core.frame.DataFrame'>\n",
      "RangeIndex: 137735 entries, 0 to 137734\n",
      "Data columns (total 4 columns):\n",
      "id           137735 non-null object\n",
      "user_id      137735 non-null int64\n",
      "call_date    137735 non-null object\n",
      "duration     137735 non-null float64\n",
      "dtypes: float64(1), int64(1), object(2)\n",
      "memory usage: 4.2+ MB\n"
     ]
    }
   ],
   "source": [
    "df_calls.info()"
   ]
  },
  {
   "cell_type": "markdown",
   "metadata": {},
   "source": [
    "No missing values. I'll change call_date data type to datetime. Call duration seconds should be rounded up to a min according to the company policy, so I'll change its data type to int."
   ]
  },
  {
   "cell_type": "code",
   "execution_count": 7,
   "metadata": {},
   "outputs": [
    {
     "data": {
      "text/html": [
       "<div>\n",
       "<style scoped>\n",
       "    .dataframe tbody tr th:only-of-type {\n",
       "        vertical-align: middle;\n",
       "    }\n",
       "\n",
       "    .dataframe tbody tr th {\n",
       "        vertical-align: top;\n",
       "    }\n",
       "\n",
       "    .dataframe thead th {\n",
       "        text-align: right;\n",
       "    }\n",
       "</style>\n",
       "<table border=\"1\" class=\"dataframe\">\n",
       "  <thead>\n",
       "    <tr style=\"text-align: right;\">\n",
       "      <th></th>\n",
       "      <th>user_id</th>\n",
       "      <th>duration</th>\n",
       "    </tr>\n",
       "  </thead>\n",
       "  <tbody>\n",
       "    <tr>\n",
       "      <td>count</td>\n",
       "      <td>137735.000000</td>\n",
       "      <td>137735.000000</td>\n",
       "    </tr>\n",
       "    <tr>\n",
       "      <td>mean</td>\n",
       "      <td>1247.658046</td>\n",
       "      <td>6.745927</td>\n",
       "    </tr>\n",
       "    <tr>\n",
       "      <td>std</td>\n",
       "      <td>139.416268</td>\n",
       "      <td>5.839241</td>\n",
       "    </tr>\n",
       "    <tr>\n",
       "      <td>min</td>\n",
       "      <td>1000.000000</td>\n",
       "      <td>0.000000</td>\n",
       "    </tr>\n",
       "    <tr>\n",
       "      <td>25%</td>\n",
       "      <td>1128.000000</td>\n",
       "      <td>1.290000</td>\n",
       "    </tr>\n",
       "    <tr>\n",
       "      <td>50%</td>\n",
       "      <td>1247.000000</td>\n",
       "      <td>5.980000</td>\n",
       "    </tr>\n",
       "    <tr>\n",
       "      <td>75%</td>\n",
       "      <td>1365.000000</td>\n",
       "      <td>10.690000</td>\n",
       "    </tr>\n",
       "    <tr>\n",
       "      <td>max</td>\n",
       "      <td>1499.000000</td>\n",
       "      <td>37.600000</td>\n",
       "    </tr>\n",
       "  </tbody>\n",
       "</table>\n",
       "</div>"
      ],
      "text/plain": [
       "             user_id       duration\n",
       "count  137735.000000  137735.000000\n",
       "mean     1247.658046       6.745927\n",
       "std       139.416268       5.839241\n",
       "min      1000.000000       0.000000\n",
       "25%      1128.000000       1.290000\n",
       "50%      1247.000000       5.980000\n",
       "75%      1365.000000      10.690000\n",
       "max      1499.000000      37.600000"
      ]
     },
     "execution_count": 7,
     "metadata": {},
     "output_type": "execute_result"
    }
   ],
   "source": [
    "df_calls.describe()"
   ]
  },
  {
   "cell_type": "markdown",
   "metadata": {},
   "source": [
    "There are total of 137735 calls, with a minimum duration of 0 seconds (that we'll round to a minute, according to the company policy), up to 38 minutes. The mean is 7 minutes and median is 6 minutes. No visible duration outliers."
   ]
  },
  {
   "cell_type": "markdown",
   "metadata": {},
   "source": [
    "**Possible reason for 0.0 values in 'duration' could be a very short phone call (call to a wrong number, etc), call lasted very short time, not enough time for the system to recored the exact amount of duration seconds.**\n",
    "\n",
    "**Internet data usage of 0.0 could be a recored of a person that didn't use his data plan at all - probably used wifi constantly / older person who use his cellphone for calls and messages only.**"
   ]
  },
  {
   "cell_type": "markdown",
   "metadata": {},
   "source": [
    "**Messages:**"
   ]
  },
  {
   "cell_type": "code",
   "execution_count": 8,
   "metadata": {},
   "outputs": [
    {
     "data": {
      "text/html": [
       "<div>\n",
       "<style scoped>\n",
       "    .dataframe tbody tr th:only-of-type {\n",
       "        vertical-align: middle;\n",
       "    }\n",
       "\n",
       "    .dataframe tbody tr th {\n",
       "        vertical-align: top;\n",
       "    }\n",
       "\n",
       "    .dataframe thead th {\n",
       "        text-align: right;\n",
       "    }\n",
       "</style>\n",
       "<table border=\"1\" class=\"dataframe\">\n",
       "  <thead>\n",
       "    <tr style=\"text-align: right;\">\n",
       "      <th></th>\n",
       "      <th>id</th>\n",
       "      <th>user_id</th>\n",
       "      <th>message_date</th>\n",
       "    </tr>\n",
       "  </thead>\n",
       "  <tbody>\n",
       "    <tr>\n",
       "      <td>0</td>\n",
       "      <td>1000_125</td>\n",
       "      <td>1000</td>\n",
       "      <td>2018-12-27</td>\n",
       "    </tr>\n",
       "    <tr>\n",
       "      <td>1</td>\n",
       "      <td>1000_160</td>\n",
       "      <td>1000</td>\n",
       "      <td>2018-12-31</td>\n",
       "    </tr>\n",
       "    <tr>\n",
       "      <td>2</td>\n",
       "      <td>1000_223</td>\n",
       "      <td>1000</td>\n",
       "      <td>2018-12-31</td>\n",
       "    </tr>\n",
       "    <tr>\n",
       "      <td>3</td>\n",
       "      <td>1000_251</td>\n",
       "      <td>1000</td>\n",
       "      <td>2018-12-27</td>\n",
       "    </tr>\n",
       "    <tr>\n",
       "      <td>4</td>\n",
       "      <td>1000_255</td>\n",
       "      <td>1000</td>\n",
       "      <td>2018-12-26</td>\n",
       "    </tr>\n",
       "  </tbody>\n",
       "</table>\n",
       "</div>"
      ],
      "text/plain": [
       "         id  user_id message_date\n",
       "0  1000_125     1000   2018-12-27\n",
       "1  1000_160     1000   2018-12-31\n",
       "2  1000_223     1000   2018-12-31\n",
       "3  1000_251     1000   2018-12-27\n",
       "4  1000_255     1000   2018-12-26"
      ]
     },
     "execution_count": 8,
     "metadata": {},
     "output_type": "execute_result"
    }
   ],
   "source": [
    "df_messages.head()"
   ]
  },
  {
   "cell_type": "code",
   "execution_count": 9,
   "metadata": {},
   "outputs": [
    {
     "name": "stdout",
     "output_type": "stream",
     "text": [
      "<class 'pandas.core.frame.DataFrame'>\n",
      "RangeIndex: 76051 entries, 0 to 76050\n",
      "Data columns (total 3 columns):\n",
      "id              76051 non-null object\n",
      "user_id         76051 non-null int64\n",
      "message_date    76051 non-null object\n",
      "dtypes: int64(1), object(2)\n",
      "memory usage: 1.7+ MB\n"
     ]
    }
   ],
   "source": [
    "df_messages.info()"
   ]
  },
  {
   "cell_type": "markdown",
   "metadata": {},
   "source": [
    "No missing values. I'll change message_date data type to datetime."
   ]
  },
  {
   "cell_type": "code",
   "execution_count": 10,
   "metadata": {},
   "outputs": [
    {
     "data": {
      "text/html": [
       "<div>\n",
       "<style scoped>\n",
       "    .dataframe tbody tr th:only-of-type {\n",
       "        vertical-align: middle;\n",
       "    }\n",
       "\n",
       "    .dataframe tbody tr th {\n",
       "        vertical-align: top;\n",
       "    }\n",
       "\n",
       "    .dataframe thead th {\n",
       "        text-align: right;\n",
       "    }\n",
       "</style>\n",
       "<table border=\"1\" class=\"dataframe\">\n",
       "  <thead>\n",
       "    <tr style=\"text-align: right;\">\n",
       "      <th></th>\n",
       "      <th>user_id</th>\n",
       "    </tr>\n",
       "  </thead>\n",
       "  <tbody>\n",
       "    <tr>\n",
       "      <td>count</td>\n",
       "      <td>76051.000000</td>\n",
       "    </tr>\n",
       "    <tr>\n",
       "      <td>mean</td>\n",
       "      <td>1245.972768</td>\n",
       "    </tr>\n",
       "    <tr>\n",
       "      <td>std</td>\n",
       "      <td>139.843635</td>\n",
       "    </tr>\n",
       "    <tr>\n",
       "      <td>min</td>\n",
       "      <td>1000.000000</td>\n",
       "    </tr>\n",
       "    <tr>\n",
       "      <td>25%</td>\n",
       "      <td>1123.000000</td>\n",
       "    </tr>\n",
       "    <tr>\n",
       "      <td>50%</td>\n",
       "      <td>1251.000000</td>\n",
       "    </tr>\n",
       "    <tr>\n",
       "      <td>75%</td>\n",
       "      <td>1362.000000</td>\n",
       "    </tr>\n",
       "    <tr>\n",
       "      <td>max</td>\n",
       "      <td>1497.000000</td>\n",
       "    </tr>\n",
       "  </tbody>\n",
       "</table>\n",
       "</div>"
      ],
      "text/plain": [
       "            user_id\n",
       "count  76051.000000\n",
       "mean    1245.972768\n",
       "std      139.843635\n",
       "min     1000.000000\n",
       "25%     1123.000000\n",
       "50%     1251.000000\n",
       "75%     1362.000000\n",
       "max     1497.000000"
      ]
     },
     "execution_count": 10,
     "metadata": {},
     "output_type": "execute_result"
    }
   ],
   "source": [
    "df_messages.describe()"
   ]
  },
  {
   "cell_type": "markdown",
   "metadata": {},
   "source": [
    "There are total of 76051 messages. No visible duration outliers."
   ]
  },
  {
   "cell_type": "markdown",
   "metadata": {},
   "source": [
    "**Internet:**"
   ]
  },
  {
   "cell_type": "code",
   "execution_count": 11,
   "metadata": {},
   "outputs": [
    {
     "data": {
      "text/html": [
       "<div>\n",
       "<style scoped>\n",
       "    .dataframe tbody tr th:only-of-type {\n",
       "        vertical-align: middle;\n",
       "    }\n",
       "\n",
       "    .dataframe tbody tr th {\n",
       "        vertical-align: top;\n",
       "    }\n",
       "\n",
       "    .dataframe thead th {\n",
       "        text-align: right;\n",
       "    }\n",
       "</style>\n",
       "<table border=\"1\" class=\"dataframe\">\n",
       "  <thead>\n",
       "    <tr style=\"text-align: right;\">\n",
       "      <th></th>\n",
       "      <th>id</th>\n",
       "      <th>user_id</th>\n",
       "      <th>session_date</th>\n",
       "      <th>mb_used</th>\n",
       "    </tr>\n",
       "  </thead>\n",
       "  <tbody>\n",
       "    <tr>\n",
       "      <td>0</td>\n",
       "      <td>1000_13</td>\n",
       "      <td>1000</td>\n",
       "      <td>2018-12-29</td>\n",
       "      <td>89.86</td>\n",
       "    </tr>\n",
       "    <tr>\n",
       "      <td>1</td>\n",
       "      <td>1000_204</td>\n",
       "      <td>1000</td>\n",
       "      <td>2018-12-31</td>\n",
       "      <td>0.00</td>\n",
       "    </tr>\n",
       "    <tr>\n",
       "      <td>2</td>\n",
       "      <td>1000_379</td>\n",
       "      <td>1000</td>\n",
       "      <td>2018-12-28</td>\n",
       "      <td>660.40</td>\n",
       "    </tr>\n",
       "    <tr>\n",
       "      <td>3</td>\n",
       "      <td>1000_413</td>\n",
       "      <td>1000</td>\n",
       "      <td>2018-12-26</td>\n",
       "      <td>270.99</td>\n",
       "    </tr>\n",
       "    <tr>\n",
       "      <td>4</td>\n",
       "      <td>1000_442</td>\n",
       "      <td>1000</td>\n",
       "      <td>2018-12-27</td>\n",
       "      <td>880.22</td>\n",
       "    </tr>\n",
       "  </tbody>\n",
       "</table>\n",
       "</div>"
      ],
      "text/plain": [
       "         id  user_id session_date  mb_used\n",
       "0   1000_13     1000   2018-12-29    89.86\n",
       "1  1000_204     1000   2018-12-31     0.00\n",
       "2  1000_379     1000   2018-12-28   660.40\n",
       "3  1000_413     1000   2018-12-26   270.99\n",
       "4  1000_442     1000   2018-12-27   880.22"
      ]
     },
     "execution_count": 11,
     "metadata": {},
     "output_type": "execute_result"
    }
   ],
   "source": [
    "df_internet.head()"
   ]
  },
  {
   "cell_type": "code",
   "execution_count": 12,
   "metadata": {},
   "outputs": [
    {
     "name": "stdout",
     "output_type": "stream",
     "text": [
      "<class 'pandas.core.frame.DataFrame'>\n",
      "RangeIndex: 104825 entries, 0 to 104824\n",
      "Data columns (total 4 columns):\n",
      "id              104825 non-null object\n",
      "user_id         104825 non-null int64\n",
      "session_date    104825 non-null object\n",
      "mb_used         104825 non-null float64\n",
      "dtypes: float64(1), int64(1), object(2)\n",
      "memory usage: 3.2+ MB\n"
     ]
    }
   ],
   "source": [
    "df_internet.info()"
   ]
  },
  {
   "cell_type": "markdown",
   "metadata": {},
   "source": [
    "No missing values. I'll change session_date data type to datetime. For web traffic, individual web sessions are not rounded up from megabytes to gigabytes. Instead, the total for the month is rounded up."
   ]
  },
  {
   "cell_type": "code",
   "execution_count": 13,
   "metadata": {},
   "outputs": [
    {
     "data": {
      "text/html": [
       "<div>\n",
       "<style scoped>\n",
       "    .dataframe tbody tr th:only-of-type {\n",
       "        vertical-align: middle;\n",
       "    }\n",
       "\n",
       "    .dataframe tbody tr th {\n",
       "        vertical-align: top;\n",
       "    }\n",
       "\n",
       "    .dataframe thead th {\n",
       "        text-align: right;\n",
       "    }\n",
       "</style>\n",
       "<table border=\"1\" class=\"dataframe\">\n",
       "  <thead>\n",
       "    <tr style=\"text-align: right;\">\n",
       "      <th></th>\n",
       "      <th>user_id</th>\n",
       "      <th>mb_used</th>\n",
       "    </tr>\n",
       "  </thead>\n",
       "  <tbody>\n",
       "    <tr>\n",
       "      <td>count</td>\n",
       "      <td>104825.000000</td>\n",
       "      <td>104825.000000</td>\n",
       "    </tr>\n",
       "    <tr>\n",
       "      <td>mean</td>\n",
       "      <td>1242.496361</td>\n",
       "      <td>366.713701</td>\n",
       "    </tr>\n",
       "    <tr>\n",
       "      <td>std</td>\n",
       "      <td>142.053913</td>\n",
       "      <td>277.170542</td>\n",
       "    </tr>\n",
       "    <tr>\n",
       "      <td>min</td>\n",
       "      <td>1000.000000</td>\n",
       "      <td>0.000000</td>\n",
       "    </tr>\n",
       "    <tr>\n",
       "      <td>25%</td>\n",
       "      <td>1122.000000</td>\n",
       "      <td>136.080000</td>\n",
       "    </tr>\n",
       "    <tr>\n",
       "      <td>50%</td>\n",
       "      <td>1236.000000</td>\n",
       "      <td>343.980000</td>\n",
       "    </tr>\n",
       "    <tr>\n",
       "      <td>75%</td>\n",
       "      <td>1367.000000</td>\n",
       "      <td>554.610000</td>\n",
       "    </tr>\n",
       "    <tr>\n",
       "      <td>max</td>\n",
       "      <td>1499.000000</td>\n",
       "      <td>1693.470000</td>\n",
       "    </tr>\n",
       "  </tbody>\n",
       "</table>\n",
       "</div>"
      ],
      "text/plain": [
       "             user_id        mb_used\n",
       "count  104825.000000  104825.000000\n",
       "mean     1242.496361     366.713701\n",
       "std       142.053913     277.170542\n",
       "min      1000.000000       0.000000\n",
       "25%      1122.000000     136.080000\n",
       "50%      1236.000000     343.980000\n",
       "75%      1367.000000     554.610000\n",
       "max      1499.000000    1693.470000"
      ]
     },
     "execution_count": 13,
     "metadata": {},
     "output_type": "execute_result"
    }
   ],
   "source": [
    "df_internet.describe()"
   ]
  },
  {
   "cell_type": "markdown",
   "metadata": {},
   "source": [
    "There are total of 104825 internet usage sessions, with a minimum mb_used of 0 mb, up to 1694 mb. The mean is 367 mb and median is 344 mb. No visible mb_used outliers."
   ]
  },
  {
   "cell_type": "markdown",
   "metadata": {},
   "source": [
    "**Plans:**"
   ]
  },
  {
   "cell_type": "code",
   "execution_count": 14,
   "metadata": {},
   "outputs": [
    {
     "data": {
      "text/html": [
       "<div>\n",
       "<style scoped>\n",
       "    .dataframe tbody tr th:only-of-type {\n",
       "        vertical-align: middle;\n",
       "    }\n",
       "\n",
       "    .dataframe tbody tr th {\n",
       "        vertical-align: top;\n",
       "    }\n",
       "\n",
       "    .dataframe thead th {\n",
       "        text-align: right;\n",
       "    }\n",
       "</style>\n",
       "<table border=\"1\" class=\"dataframe\">\n",
       "  <thead>\n",
       "    <tr style=\"text-align: right;\">\n",
       "      <th></th>\n",
       "      <th>messages_included</th>\n",
       "      <th>mb_per_month_included</th>\n",
       "      <th>minutes_included</th>\n",
       "      <th>usd_monthly_pay</th>\n",
       "      <th>usd_per_gb</th>\n",
       "      <th>usd_per_message</th>\n",
       "      <th>usd_per_minute</th>\n",
       "      <th>plan_name</th>\n",
       "    </tr>\n",
       "  </thead>\n",
       "  <tbody>\n",
       "    <tr>\n",
       "      <td>0</td>\n",
       "      <td>50</td>\n",
       "      <td>15360</td>\n",
       "      <td>500</td>\n",
       "      <td>20</td>\n",
       "      <td>10</td>\n",
       "      <td>0.03</td>\n",
       "      <td>0.03</td>\n",
       "      <td>surf</td>\n",
       "    </tr>\n",
       "    <tr>\n",
       "      <td>1</td>\n",
       "      <td>1000</td>\n",
       "      <td>30720</td>\n",
       "      <td>3000</td>\n",
       "      <td>70</td>\n",
       "      <td>7</td>\n",
       "      <td>0.01</td>\n",
       "      <td>0.01</td>\n",
       "      <td>ultimate</td>\n",
       "    </tr>\n",
       "  </tbody>\n",
       "</table>\n",
       "</div>"
      ],
      "text/plain": [
       "   messages_included  mb_per_month_included  minutes_included  \\\n",
       "0                 50                  15360               500   \n",
       "1               1000                  30720              3000   \n",
       "\n",
       "   usd_monthly_pay  usd_per_gb  usd_per_message  usd_per_minute plan_name  \n",
       "0               20          10             0.03            0.03      surf  \n",
       "1               70           7             0.01            0.01  ultimate  "
      ]
     },
     "execution_count": 14,
     "metadata": {},
     "output_type": "execute_result"
    }
   ],
   "source": [
    "df_plans"
   ]
  },
  {
   "cell_type": "code",
   "execution_count": 15,
   "metadata": {},
   "outputs": [
    {
     "name": "stdout",
     "output_type": "stream",
     "text": [
      "<class 'pandas.core.frame.DataFrame'>\n",
      "RangeIndex: 2 entries, 0 to 1\n",
      "Data columns (total 8 columns):\n",
      "messages_included        2 non-null int64\n",
      "mb_per_month_included    2 non-null int64\n",
      "minutes_included         2 non-null int64\n",
      "usd_monthly_pay          2 non-null int64\n",
      "usd_per_gb               2 non-null int64\n",
      "usd_per_message          2 non-null float64\n",
      "usd_per_minute           2 non-null float64\n",
      "plan_name                2 non-null object\n",
      "dtypes: float64(2), int64(5), object(1)\n",
      "memory usage: 256.0+ bytes\n"
     ]
    }
   ],
   "source": [
    "df_plans.info()"
   ]
  },
  {
   "cell_type": "markdown",
   "metadata": {},
   "source": [
    "We can see the two prepaid plans, Surf and Ultimate. Data types and values are correct."
   ]
  },
  {
   "cell_type": "markdown",
   "metadata": {},
   "source": [
    "### Conclusion"
   ]
  },
  {
   "cell_type": "markdown",
   "metadata": {},
   "source": [
    "All the date columns across the board should be changed to datetime type. NaN values in df_users should be filled with a matching string value. Call duration should be rounded up for all calls. I'll need to check for duplicates too."
   ]
  },
  {
   "cell_type": "markdown",
   "metadata": {},
   "source": [
    "### 2. Prepare the data:"
   ]
  },
  {
   "cell_type": "markdown",
   "metadata": {},
   "source": [
    "* **Fill missing values:**"
   ]
  },
  {
   "cell_type": "code",
   "execution_count": 16,
   "metadata": {},
   "outputs": [],
   "source": [
    "df_users['churn_date'] = df_users['churn_date'].fillna('2018-12-31')"
   ]
  },
  {
   "cell_type": "markdown",
   "metadata": {},
   "source": [
    "I filled the NaN values in users 'churn_date' with the date of the latest day in 2018."
   ]
  },
  {
   "cell_type": "markdown",
   "metadata": {},
   "source": [
    "**According to the data provider, if the 'churn_date' value is missing, the calling plan was being used when this data was retrieved. Add that to the fact that all of the data is related to 2018 only, we can fill the 'churn_date' with the date of the last day of 2018.**"
   ]
  },
  {
   "cell_type": "markdown",
   "metadata": {},
   "source": [
    "* **Data types conversion:**"
   ]
  },
  {
   "cell_type": "code",
   "execution_count": 17,
   "metadata": {},
   "outputs": [],
   "source": [
    "import re\n",
    "for data in [df_users, df_calls, df_internet, df_messages]:\n",
    "    if data is not df_users:\n",
    "        data['id'] = np.vectorize(lambda x: re.sub('.*_',  '' ,   x))(data['id'])       \n",
    "    for column in ['reg_date' ,'session_date', 'churn_date' ,'call_date' ,'message_date']:\n",
    "        if column in data.columns:\n",
    "            data[column] = pd.to_datetime(data[column])"
   ]
  },
  {
   "cell_type": "markdown",
   "metadata": {},
   "source": [
    "I changed the dates columns to datetime type and separated user_id from the corresponding id value. "
   ]
  },
  {
   "cell_type": "code",
   "execution_count": 18,
   "metadata": {},
   "outputs": [],
   "source": [
    "df_calls['duration'] = (df_calls['duration'].apply(np.ceil).astype('int64'))"
   ]
  },
  {
   "cell_type": "markdown",
   "metadata": {},
   "source": [
    "I rounded up calls duration to minutes and changed the datatype to int. "
   ]
  },
  {
   "cell_type": "markdown",
   "metadata": {},
   "source": [
    "* **Check for date mismatches**"
   ]
  },
  {
   "cell_type": "markdown",
   "metadata": {},
   "source": [
    "I need to check that there are no cases of date mismatches in all of the dataframes."
   ]
  },
  {
   "cell_type": "code",
   "execution_count": 19,
   "metadata": {},
   "outputs": [
    {
     "data": {
      "text/plain": [
       "0"
      ]
     },
     "execution_count": 19,
     "metadata": {},
     "output_type": "execute_result"
    }
   ],
   "source": [
    "date_check = df_users.query('churn_date != 2018-12-31')\n",
    "sum(date_check['reg_date'] > date_check['churn_date'])"
   ]
  },
  {
   "cell_type": "code",
   "execution_count": 20,
   "metadata": {},
   "outputs": [
    {
     "name": "stdout",
     "output_type": "stream",
     "text": [
      "0\n",
      "0\n",
      "0\n"
     ]
    }
   ],
   "source": [
    "df_dates_check = df_users.merge(df_messages, how='left').merge(df_calls,how='left').merge(df_internet, how='left')\n",
    "print(len(df_dates_check[df_dates_check['reg_date'] > df_dates_check['message_date']]))\n",
    "print(len(df_dates_check[df_dates_check['reg_date'] > df_dates_check['call_date']]))\n",
    "print(len(df_dates_check[df_dates_check['reg_date'] > df_dates_check['session_date']]))"
   ]
  },
  {
   "cell_type": "markdown",
   "metadata": {},
   "source": [
    "There are no date mismatches in the dataframes."
   ]
  },
  {
   "cell_type": "markdown",
   "metadata": {},
   "source": [
    "* **Check for duplicates:**"
   ]
  },
  {
   "cell_type": "code",
   "execution_count": 21,
   "metadata": {},
   "outputs": [
    {
     "name": "stdout",
     "output_type": "stream",
     "text": [
      "0\n",
      "0\n",
      "0\n",
      "0\n"
     ]
    }
   ],
   "source": [
    "for df in [df_users, df_calls, df_messages, df_internet]:\n",
    "    print(df.duplicated().sum())"
   ]
  },
  {
   "cell_type": "markdown",
   "metadata": {},
   "source": [
    "No duplicate rows. We cam move on."
   ]
  },
  {
   "cell_type": "markdown",
   "metadata": {},
   "source": [
    "* **Make necessary calculations**"
   ]
  },
  {
   "cell_type": "markdown",
   "metadata": {},
   "source": [
    "**The number of calls made and minutes used per month**"
   ]
  },
  {
   "cell_type": "code",
   "execution_count": 22,
   "metadata": {},
   "outputs": [
    {
     "data": {
      "text/html": [
       "<div>\n",
       "<style scoped>\n",
       "    .dataframe tbody tr th:only-of-type {\n",
       "        vertical-align: middle;\n",
       "    }\n",
       "\n",
       "    .dataframe tbody tr th {\n",
       "        vertical-align: top;\n",
       "    }\n",
       "\n",
       "    .dataframe thead th {\n",
       "        text-align: right;\n",
       "    }\n",
       "</style>\n",
       "<table border=\"1\" class=\"dataframe\">\n",
       "  <thead>\n",
       "    <tr style=\"text-align: right;\">\n",
       "      <th></th>\n",
       "      <th>user_id</th>\n",
       "      <th>month</th>\n",
       "      <th>total_min_per_month</th>\n",
       "      <th>total_calls_per_month</th>\n",
       "    </tr>\n",
       "  </thead>\n",
       "  <tbody>\n",
       "    <tr>\n",
       "      <td>0</td>\n",
       "      <td>1000</td>\n",
       "      <td>12</td>\n",
       "      <td>124</td>\n",
       "      <td>16</td>\n",
       "    </tr>\n",
       "    <tr>\n",
       "      <td>1</td>\n",
       "      <td>1001</td>\n",
       "      <td>8</td>\n",
       "      <td>182</td>\n",
       "      <td>27</td>\n",
       "    </tr>\n",
       "    <tr>\n",
       "      <td>2</td>\n",
       "      <td>1001</td>\n",
       "      <td>9</td>\n",
       "      <td>315</td>\n",
       "      <td>49</td>\n",
       "    </tr>\n",
       "    <tr>\n",
       "      <td>3</td>\n",
       "      <td>1001</td>\n",
       "      <td>10</td>\n",
       "      <td>393</td>\n",
       "      <td>65</td>\n",
       "    </tr>\n",
       "    <tr>\n",
       "      <td>4</td>\n",
       "      <td>1001</td>\n",
       "      <td>11</td>\n",
       "      <td>426</td>\n",
       "      <td>64</td>\n",
       "    </tr>\n",
       "  </tbody>\n",
       "</table>\n",
       "</div>"
      ],
      "text/plain": [
       "   user_id  month  total_min_per_month  total_calls_per_month\n",
       "0     1000     12                  124                     16\n",
       "1     1001      8                  182                     27\n",
       "2     1001      9                  315                     49\n",
       "3     1001     10                  393                     65\n",
       "4     1001     11                  426                     64"
      ]
     },
     "execution_count": 22,
     "metadata": {},
     "output_type": "execute_result"
    }
   ],
   "source": [
    "df_calls['month'] = df_calls['call_date'].dt.month\n",
    "calls_made_per_month = df_calls.groupby([\"user_id\",\"month\"]).agg({\"duration\": \"sum\", \"id\":\"count\"}).reset_index()\n",
    "calls_made_per_month.columns = [\"user_id\",\"month\",\"total_min_per_month\", \"total_calls_per_month\"]\n",
    "calls_made_per_month.head()"
   ]
  },
  {
   "cell_type": "markdown",
   "metadata": {},
   "source": [
    "**The number of text messages sent per month**"
   ]
  },
  {
   "cell_type": "code",
   "execution_count": 23,
   "metadata": {},
   "outputs": [
    {
     "data": {
      "text/html": [
       "<div>\n",
       "<style scoped>\n",
       "    .dataframe tbody tr th:only-of-type {\n",
       "        vertical-align: middle;\n",
       "    }\n",
       "\n",
       "    .dataframe tbody tr th {\n",
       "        vertical-align: top;\n",
       "    }\n",
       "\n",
       "    .dataframe thead th {\n",
       "        text-align: right;\n",
       "    }\n",
       "</style>\n",
       "<table border=\"1\" class=\"dataframe\">\n",
       "  <thead>\n",
       "    <tr style=\"text-align: right;\">\n",
       "      <th></th>\n",
       "      <th>user_id</th>\n",
       "      <th>month</th>\n",
       "      <th>messages_sent_per_month</th>\n",
       "    </tr>\n",
       "  </thead>\n",
       "  <tbody>\n",
       "    <tr>\n",
       "      <td>0</td>\n",
       "      <td>1000</td>\n",
       "      <td>12</td>\n",
       "      <td>11</td>\n",
       "    </tr>\n",
       "    <tr>\n",
       "      <td>1</td>\n",
       "      <td>1001</td>\n",
       "      <td>8</td>\n",
       "      <td>30</td>\n",
       "    </tr>\n",
       "    <tr>\n",
       "      <td>2</td>\n",
       "      <td>1001</td>\n",
       "      <td>9</td>\n",
       "      <td>44</td>\n",
       "    </tr>\n",
       "    <tr>\n",
       "      <td>3</td>\n",
       "      <td>1001</td>\n",
       "      <td>10</td>\n",
       "      <td>53</td>\n",
       "    </tr>\n",
       "    <tr>\n",
       "      <td>4</td>\n",
       "      <td>1001</td>\n",
       "      <td>11</td>\n",
       "      <td>36</td>\n",
       "    </tr>\n",
       "  </tbody>\n",
       "</table>\n",
       "</div>"
      ],
      "text/plain": [
       "   user_id  month  messages_sent_per_month\n",
       "0     1000     12                       11\n",
       "1     1001      8                       30\n",
       "2     1001      9                       44\n",
       "3     1001     10                       53\n",
       "4     1001     11                       36"
      ]
     },
     "execution_count": 23,
     "metadata": {},
     "output_type": "execute_result"
    }
   ],
   "source": [
    "df_messages['month'] = df_messages['message_date'].dt.month\n",
    "messages_sent_per_month = df_messages.groupby([\"user_id\",\"month\"])[\"id\"].count().reset_index()\n",
    "messages_sent_per_month.columns = ['user_id','month','messages_sent_per_month']\n",
    "messages_sent_per_month.head()"
   ]
  },
  {
   "cell_type": "markdown",
   "metadata": {},
   "source": [
    "**The volume of data per month**"
   ]
  },
  {
   "cell_type": "code",
   "execution_count": 24,
   "metadata": {},
   "outputs": [
    {
     "data": {
      "text/html": [
       "<div>\n",
       "<style scoped>\n",
       "    .dataframe tbody tr th:only-of-type {\n",
       "        vertical-align: middle;\n",
       "    }\n",
       "\n",
       "    .dataframe tbody tr th {\n",
       "        vertical-align: top;\n",
       "    }\n",
       "\n",
       "    .dataframe thead th {\n",
       "        text-align: right;\n",
       "    }\n",
       "</style>\n",
       "<table border=\"1\" class=\"dataframe\">\n",
       "  <thead>\n",
       "    <tr style=\"text-align: right;\">\n",
       "      <th></th>\n",
       "      <th>user_id</th>\n",
       "      <th>month</th>\n",
       "      <th>data_vol_mb_per_month</th>\n",
       "      <th>data_vol_gb_per_month</th>\n",
       "    </tr>\n",
       "  </thead>\n",
       "  <tbody>\n",
       "    <tr>\n",
       "      <td>0</td>\n",
       "      <td>1000</td>\n",
       "      <td>12</td>\n",
       "      <td>1901.47</td>\n",
       "      <td>2</td>\n",
       "    </tr>\n",
       "    <tr>\n",
       "      <td>1</td>\n",
       "      <td>1001</td>\n",
       "      <td>8</td>\n",
       "      <td>6919.15</td>\n",
       "      <td>7</td>\n",
       "    </tr>\n",
       "    <tr>\n",
       "      <td>2</td>\n",
       "      <td>1001</td>\n",
       "      <td>9</td>\n",
       "      <td>13314.82</td>\n",
       "      <td>14</td>\n",
       "    </tr>\n",
       "    <tr>\n",
       "      <td>3</td>\n",
       "      <td>1001</td>\n",
       "      <td>10</td>\n",
       "      <td>22330.49</td>\n",
       "      <td>23</td>\n",
       "    </tr>\n",
       "    <tr>\n",
       "      <td>4</td>\n",
       "      <td>1001</td>\n",
       "      <td>11</td>\n",
       "      <td>18504.30</td>\n",
       "      <td>19</td>\n",
       "    </tr>\n",
       "  </tbody>\n",
       "</table>\n",
       "</div>"
      ],
      "text/plain": [
       "   user_id  month  data_vol_mb_per_month  data_vol_gb_per_month\n",
       "0     1000     12                1901.47                      2\n",
       "1     1001      8                6919.15                      7\n",
       "2     1001      9               13314.82                     14\n",
       "3     1001     10               22330.49                     23\n",
       "4     1001     11               18504.30                     19"
      ]
     },
     "execution_count": 24,
     "metadata": {},
     "output_type": "execute_result"
    }
   ],
   "source": [
    "df_internet['month'] = df_internet['session_date'].dt.month\n",
    "data_vol_per_month = df_internet.groupby([\"user_id\",\"month\"])[\"mb_used\"].sum().reset_index()\n",
    "data_vol_per_month.columns = ['user_id', 'month', \"data_vol_mb_per_month\"]\n",
    "data_vol_per_month['data_vol_gb_per_month'] = np.ceil((data_vol_per_month['data_vol_mb_per_month'].values) / 1000).astype(int)\n",
    "data_vol_per_month.head()"
   ]
  },
  {
   "cell_type": "markdown",
   "metadata": {},
   "source": [
    "**The monthly revenue from each user**"
   ]
  },
  {
   "cell_type": "markdown",
   "metadata": {},
   "source": [
    "To calculate the monthly revenue from each user, I'll subtract the free package limit from the total number of calls, text messages, and data. Then multiply the result by the calling plan value. Finally, I'll add the monthly charge depending on the calling plan."
   ]
  },
  {
   "cell_type": "code",
   "execution_count": 25,
   "metadata": {},
   "outputs": [
    {
     "data": {
      "text/html": [
       "<div>\n",
       "<style scoped>\n",
       "    .dataframe tbody tr th:only-of-type {\n",
       "        vertical-align: middle;\n",
       "    }\n",
       "\n",
       "    .dataframe tbody tr th {\n",
       "        vertical-align: top;\n",
       "    }\n",
       "\n",
       "    .dataframe thead th {\n",
       "        text-align: right;\n",
       "    }\n",
       "</style>\n",
       "<table border=\"1\" class=\"dataframe\">\n",
       "  <thead>\n",
       "    <tr style=\"text-align: right;\">\n",
       "      <th></th>\n",
       "      <th>user_id</th>\n",
       "      <th>month</th>\n",
       "      <th>total_min_per_month</th>\n",
       "      <th>messages_sent_per_month</th>\n",
       "      <th>data_vol_gb_per_month</th>\n",
       "      <th>plan</th>\n",
       "    </tr>\n",
       "  </thead>\n",
       "  <tbody>\n",
       "    <tr>\n",
       "      <td>0</td>\n",
       "      <td>1000</td>\n",
       "      <td>12</td>\n",
       "      <td>124.0</td>\n",
       "      <td>11.0</td>\n",
       "      <td>2.0</td>\n",
       "      <td>ultimate</td>\n",
       "    </tr>\n",
       "    <tr>\n",
       "      <td>1</td>\n",
       "      <td>1001</td>\n",
       "      <td>8</td>\n",
       "      <td>182.0</td>\n",
       "      <td>30.0</td>\n",
       "      <td>7.0</td>\n",
       "      <td>surf</td>\n",
       "    </tr>\n",
       "    <tr>\n",
       "      <td>2</td>\n",
       "      <td>1001</td>\n",
       "      <td>9</td>\n",
       "      <td>315.0</td>\n",
       "      <td>44.0</td>\n",
       "      <td>14.0</td>\n",
       "      <td>surf</td>\n",
       "    </tr>\n",
       "    <tr>\n",
       "      <td>3</td>\n",
       "      <td>1001</td>\n",
       "      <td>10</td>\n",
       "      <td>393.0</td>\n",
       "      <td>53.0</td>\n",
       "      <td>23.0</td>\n",
       "      <td>surf</td>\n",
       "    </tr>\n",
       "    <tr>\n",
       "      <td>4</td>\n",
       "      <td>1001</td>\n",
       "      <td>11</td>\n",
       "      <td>426.0</td>\n",
       "      <td>36.0</td>\n",
       "      <td>19.0</td>\n",
       "      <td>surf</td>\n",
       "    </tr>\n",
       "  </tbody>\n",
       "</table>\n",
       "</div>"
      ],
      "text/plain": [
       "   user_id  month  total_min_per_month  messages_sent_per_month  \\\n",
       "0     1000     12                124.0                     11.0   \n",
       "1     1001      8                182.0                     30.0   \n",
       "2     1001      9                315.0                     44.0   \n",
       "3     1001     10                393.0                     53.0   \n",
       "4     1001     11                426.0                     36.0   \n",
       "\n",
       "   data_vol_gb_per_month      plan  \n",
       "0                    2.0  ultimate  \n",
       "1                    7.0      surf  \n",
       "2                   14.0      surf  \n",
       "3                   23.0      surf  \n",
       "4                   19.0      surf  "
      ]
     },
     "execution_count": 25,
     "metadata": {},
     "output_type": "execute_result"
    }
   ],
   "source": [
    "dataframes = [calls_made_per_month, messages_sent_per_month, data_vol_per_month]\n",
    "df_merged = reduce(lambda  left,right: pd.merge(left,right,on=['user_id',\"month\"],how='outer'), dataframes).fillna(0)\n",
    "df_merged = df_merged.merge(df_users,on='user_id')\n",
    "df_merged[['user_id', 'month', 'total_min_per_month', 'messages_sent_per_month', 'data_vol_gb_per_month', 'plan']].head()\n",
    "\n"
   ]
  },
  {
   "cell_type": "markdown",
   "metadata": {},
   "source": [
    "I merged 4 dataframes (df_users, calls_made_per_month, messages_sent_per_month, data_vol_per_month) to help in the process of calculating the monthly user revenue."
   ]
  },
  {
   "cell_type": "code",
   "execution_count": 26,
   "metadata": {},
   "outputs": [
    {
     "data": {
      "text/html": [
       "<div>\n",
       "<style scoped>\n",
       "    .dataframe tbody tr th:only-of-type {\n",
       "        vertical-align: middle;\n",
       "    }\n",
       "\n",
       "    .dataframe tbody tr th {\n",
       "        vertical-align: top;\n",
       "    }\n",
       "\n",
       "    .dataframe thead th {\n",
       "        text-align: right;\n",
       "    }\n",
       "</style>\n",
       "<table border=\"1\" class=\"dataframe\">\n",
       "  <thead>\n",
       "    <tr style=\"text-align: right;\">\n",
       "      <th></th>\n",
       "      <th>user_id</th>\n",
       "      <th>month</th>\n",
       "      <th>total_min_per_month</th>\n",
       "      <th>messages_sent_per_month</th>\n",
       "      <th>data_vol_gb_per_month</th>\n",
       "      <th>plan</th>\n",
       "      <th>monthly_user_revenue</th>\n",
       "    </tr>\n",
       "  </thead>\n",
       "  <tbody>\n",
       "    <tr>\n",
       "      <td>0</td>\n",
       "      <td>1000</td>\n",
       "      <td>12</td>\n",
       "      <td>124.0</td>\n",
       "      <td>11.0</td>\n",
       "      <td>2.0</td>\n",
       "      <td>ultimate</td>\n",
       "      <td>70.00</td>\n",
       "    </tr>\n",
       "    <tr>\n",
       "      <td>1</td>\n",
       "      <td>1001</td>\n",
       "      <td>8</td>\n",
       "      <td>182.0</td>\n",
       "      <td>30.0</td>\n",
       "      <td>7.0</td>\n",
       "      <td>surf</td>\n",
       "      <td>20.00</td>\n",
       "    </tr>\n",
       "    <tr>\n",
       "      <td>2</td>\n",
       "      <td>1001</td>\n",
       "      <td>9</td>\n",
       "      <td>315.0</td>\n",
       "      <td>44.0</td>\n",
       "      <td>14.0</td>\n",
       "      <td>surf</td>\n",
       "      <td>20.00</td>\n",
       "    </tr>\n",
       "    <tr>\n",
       "      <td>3</td>\n",
       "      <td>1001</td>\n",
       "      <td>10</td>\n",
       "      <td>393.0</td>\n",
       "      <td>53.0</td>\n",
       "      <td>23.0</td>\n",
       "      <td>surf</td>\n",
       "      <td>100.09</td>\n",
       "    </tr>\n",
       "    <tr>\n",
       "      <td>4</td>\n",
       "      <td>1001</td>\n",
       "      <td>11</td>\n",
       "      <td>426.0</td>\n",
       "      <td>36.0</td>\n",
       "      <td>19.0</td>\n",
       "      <td>surf</td>\n",
       "      <td>60.00</td>\n",
       "    </tr>\n",
       "    <tr>\n",
       "      <td>5</td>\n",
       "      <td>1001</td>\n",
       "      <td>12</td>\n",
       "      <td>412.0</td>\n",
       "      <td>44.0</td>\n",
       "      <td>20.0</td>\n",
       "      <td>surf</td>\n",
       "      <td>70.00</td>\n",
       "    </tr>\n",
       "    <tr>\n",
       "      <td>6</td>\n",
       "      <td>1002</td>\n",
       "      <td>10</td>\n",
       "      <td>59.0</td>\n",
       "      <td>15.0</td>\n",
       "      <td>7.0</td>\n",
       "      <td>surf</td>\n",
       "      <td>20.00</td>\n",
       "    </tr>\n",
       "    <tr>\n",
       "      <td>7</td>\n",
       "      <td>1002</td>\n",
       "      <td>11</td>\n",
       "      <td>386.0</td>\n",
       "      <td>32.0</td>\n",
       "      <td>20.0</td>\n",
       "      <td>surf</td>\n",
       "      <td>70.00</td>\n",
       "    </tr>\n",
       "    <tr>\n",
       "      <td>8</td>\n",
       "      <td>1002</td>\n",
       "      <td>12</td>\n",
       "      <td>384.0</td>\n",
       "      <td>41.0</td>\n",
       "      <td>15.0</td>\n",
       "      <td>surf</td>\n",
       "      <td>20.00</td>\n",
       "    </tr>\n",
       "    <tr>\n",
       "      <td>9</td>\n",
       "      <td>1003</td>\n",
       "      <td>12</td>\n",
       "      <td>1104.0</td>\n",
       "      <td>50.0</td>\n",
       "      <td>28.0</td>\n",
       "      <td>surf</td>\n",
       "      <td>168.12</td>\n",
       "    </tr>\n",
       "  </tbody>\n",
       "</table>\n",
       "</div>"
      ],
      "text/plain": [
       "   user_id  month  total_min_per_month  messages_sent_per_month  \\\n",
       "0     1000     12                124.0                     11.0   \n",
       "1     1001      8                182.0                     30.0   \n",
       "2     1001      9                315.0                     44.0   \n",
       "3     1001     10                393.0                     53.0   \n",
       "4     1001     11                426.0                     36.0   \n",
       "5     1001     12                412.0                     44.0   \n",
       "6     1002     10                 59.0                     15.0   \n",
       "7     1002     11                386.0                     32.0   \n",
       "8     1002     12                384.0                     41.0   \n",
       "9     1003     12               1104.0                     50.0   \n",
       "\n",
       "   data_vol_gb_per_month      plan  monthly_user_revenue  \n",
       "0                    2.0  ultimate                 70.00  \n",
       "1                    7.0      surf                 20.00  \n",
       "2                   14.0      surf                 20.00  \n",
       "3                   23.0      surf                100.09  \n",
       "4                   19.0      surf                 60.00  \n",
       "5                   20.0      surf                 70.00  \n",
       "6                    7.0      surf                 20.00  \n",
       "7                   20.0      surf                 70.00  \n",
       "8                   15.0      surf                 20.00  \n",
       "9                   28.0      surf                168.12  "
      ]
     },
     "execution_count": 26,
     "metadata": {},
     "output_type": "execute_result"
    }
   ],
   "source": [
    "def cost(row):\n",
    "    total_call_duration = row[\"total_min_per_month\"]\n",
    "    total_messages_sent = row[\"messages_sent_per_month\"]\n",
    "    total_data_vol_gb = row[\"data_vol_gb_per_month\"]\n",
    "    plan_name = row[\"plan\"]\n",
    "    \n",
    "    \n",
    "    if plan_name == \"surf\":\n",
    "        usd_monthly_fee  = 20\n",
    "        if total_call_duration > 500:\n",
    "            call_extra_fee = 0.03*(total_call_duration - 500)\n",
    "        else:\n",
    "            call_extra_fee = 0\n",
    "        \n",
    "        if total_messages_sent > 50:\n",
    "            message_extra_fee = 0.03*(total_messages_sent - 50)\n",
    "        else: \n",
    "            message_extra_fee = 0\n",
    "        \n",
    "        if total_data_vol_gb > 15 :\n",
    "            data_extra_fee = 10*(total_data_vol_gb - 15)\n",
    "        else:\n",
    "            data_extra_fee = 0 \n",
    "            \n",
    "    elif plan_name == \"ultimate\":\n",
    "        usd_monthly_fee = 70\n",
    "        if total_call_duration > 3000:\n",
    "            call_extra_fee =  (0.01)*(total_call_duration - 3000)\n",
    "        else:\n",
    "            call_extra_fee = 0\n",
    "        \n",
    "        if total_messages_sent > 1000:\n",
    "            message_extra_fee = 0.01*(total_messages_sent - 1000)\n",
    "        else: \n",
    "            message_extra_fee = 0 \n",
    "        \n",
    "        if total_data_vol_gb > 30 :\n",
    "            data_extra_fee =  7*(total_data_vol_gb - 30)\n",
    "        else:\n",
    "            data_extra_fee = 0\n",
    "            \n",
    "    user_monthly_revenue = usd_monthly_fee + call_extra_fee + message_extra_fee + data_extra_fee\n",
    "    return user_monthly_revenue\n",
    "\n",
    "df_merged['monthly_user_revenue']= df_merged.apply(cost,axis=1)\n",
    "df_merged[['user_id', 'month', 'total_min_per_month', 'messages_sent_per_month', 'data_vol_gb_per_month', 'plan', \n",
    "           'monthly_user_revenue']].head(10)"
   ]
  },
  {
   "cell_type": "markdown",
   "metadata": {},
   "source": [
    "I used the function 'cost' to calculate the monthly revenue for each user and added the column monthly_user_revenue to the merged dataframe."
   ]
  },
  {
   "cell_type": "markdown",
   "metadata": {},
   "source": [
    "### Conclusion"
   ]
  },
  {
   "cell_type": "markdown",
   "metadata": {},
   "source": [
    "I prepared the data: converted data types of date columns to datetype, separated user_id and call/message/session id, filled the missing values of active plan users in the 'churn_date' with 2018-12-31 and made sure there are no duplicate rows or date mismatches in any of the dataframes.\n",
    "I calculated the number of calls made and minutes used per month, the number of text messages sent per month, the volume of data per month and added merged all to one dataframe. I used the calculations to calculate the monthly revenue from each user."
   ]
  },
  {
   "cell_type": "markdown",
   "metadata": {},
   "source": [
    "### 3. Analyze the data:"
   ]
  },
  {
   "cell_type": "markdown",
   "metadata": {},
   "source": [
    "**Describe the customers' behavior:**"
   ]
  },
  {
   "cell_type": "code",
   "execution_count": 27,
   "metadata": {},
   "outputs": [
    {
     "data": {
      "text/html": [
       "<div>\n",
       "<style scoped>\n",
       "    .dataframe tbody tr th:only-of-type {\n",
       "        vertical-align: middle;\n",
       "    }\n",
       "\n",
       "    .dataframe tbody tr th {\n",
       "        vertical-align: top;\n",
       "    }\n",
       "\n",
       "    .dataframe thead th {\n",
       "        text-align: right;\n",
       "    }\n",
       "</style>\n",
       "<table border=\"1\" class=\"dataframe\">\n",
       "  <thead>\n",
       "    <tr style=\"text-align: right;\">\n",
       "      <th></th>\n",
       "      <th>user_id</th>\n",
       "      <th>month</th>\n",
       "      <th>total_min_per_month</th>\n",
       "      <th>total_calls_per_month</th>\n",
       "      <th>messages_sent_per_month</th>\n",
       "      <th>data_vol_gb_per_month</th>\n",
       "      <th>monthly_user_revenue</th>\n",
       "    </tr>\n",
       "  </thead>\n",
       "  <tbody>\n",
       "    <tr>\n",
       "      <td>count</td>\n",
       "      <td>2293.000000</td>\n",
       "      <td>2293.000000</td>\n",
       "      <td>2293.000000</td>\n",
       "      <td>2293.000000</td>\n",
       "      <td>2293.000000</td>\n",
       "      <td>2293.000000</td>\n",
       "      <td>2293.000000</td>\n",
       "    </tr>\n",
       "    <tr>\n",
       "      <td>mean</td>\n",
       "      <td>1246.075883</td>\n",
       "      <td>9.172700</td>\n",
       "      <td>429.283471</td>\n",
       "      <td>60.067597</td>\n",
       "      <td>33.166594</td>\n",
       "      <td>17.251635</td>\n",
       "      <td>66.466280</td>\n",
       "    </tr>\n",
       "    <tr>\n",
       "      <td>std</td>\n",
       "      <td>143.051927</td>\n",
       "      <td>2.496386</td>\n",
       "      <td>236.320077</td>\n",
       "      <td>32.402563</td>\n",
       "      <td>34.070085</td>\n",
       "      <td>7.973828</td>\n",
       "      <td>48.254784</td>\n",
       "    </tr>\n",
       "    <tr>\n",
       "      <td>min</td>\n",
       "      <td>1000.000000</td>\n",
       "      <td>1.000000</td>\n",
       "      <td>0.000000</td>\n",
       "      <td>0.000000</td>\n",
       "      <td>0.000000</td>\n",
       "      <td>0.000000</td>\n",
       "      <td>20.000000</td>\n",
       "    </tr>\n",
       "    <tr>\n",
       "      <td>25%</td>\n",
       "      <td>1122.000000</td>\n",
       "      <td>8.000000</td>\n",
       "      <td>265.000000</td>\n",
       "      <td>38.000000</td>\n",
       "      <td>3.000000</td>\n",
       "      <td>13.000000</td>\n",
       "      <td>25.340000</td>\n",
       "    </tr>\n",
       "    <tr>\n",
       "      <td>50%</td>\n",
       "      <td>1245.000000</td>\n",
       "      <td>10.000000</td>\n",
       "      <td>425.000000</td>\n",
       "      <td>60.000000</td>\n",
       "      <td>26.000000</td>\n",
       "      <td>17.000000</td>\n",
       "      <td>70.000000</td>\n",
       "    </tr>\n",
       "    <tr>\n",
       "      <td>75%</td>\n",
       "      <td>1368.000000</td>\n",
       "      <td>11.000000</td>\n",
       "      <td>572.000000</td>\n",
       "      <td>79.000000</td>\n",
       "      <td>51.000000</td>\n",
       "      <td>21.000000</td>\n",
       "      <td>70.000000</td>\n",
       "    </tr>\n",
       "    <tr>\n",
       "      <td>max</td>\n",
       "      <td>1499.000000</td>\n",
       "      <td>12.000000</td>\n",
       "      <td>1510.000000</td>\n",
       "      <td>205.000000</td>\n",
       "      <td>266.000000</td>\n",
       "      <td>71.000000</td>\n",
       "      <td>600.370000</td>\n",
       "    </tr>\n",
       "  </tbody>\n",
       "</table>\n",
       "</div>"
      ],
      "text/plain": [
       "           user_id        month  total_min_per_month  total_calls_per_month  \\\n",
       "count  2293.000000  2293.000000          2293.000000            2293.000000   \n",
       "mean   1246.075883     9.172700           429.283471              60.067597   \n",
       "std     143.051927     2.496386           236.320077              32.402563   \n",
       "min    1000.000000     1.000000             0.000000               0.000000   \n",
       "25%    1122.000000     8.000000           265.000000              38.000000   \n",
       "50%    1245.000000    10.000000           425.000000              60.000000   \n",
       "75%    1368.000000    11.000000           572.000000              79.000000   \n",
       "max    1499.000000    12.000000          1510.000000             205.000000   \n",
       "\n",
       "       messages_sent_per_month  data_vol_gb_per_month  monthly_user_revenue  \n",
       "count              2293.000000            2293.000000           2293.000000  \n",
       "mean                 33.166594              17.251635             66.466280  \n",
       "std                  34.070085               7.973828             48.254784  \n",
       "min                   0.000000               0.000000             20.000000  \n",
       "25%                   3.000000              13.000000             25.340000  \n",
       "50%                  26.000000              17.000000             70.000000  \n",
       "75%                  51.000000              21.000000             70.000000  \n",
       "max                 266.000000              71.000000            600.370000  "
      ]
     },
     "execution_count": 27,
     "metadata": {},
     "output_type": "execute_result"
    }
   ],
   "source": [
    "df_merged[['user_id', 'month', 'total_min_per_month', 'total_calls_per_month', 'messages_sent_per_month', 'data_vol_gb_per_month', 'plan', \n",
    "           'monthly_user_revenue']].describe()"
   ]
  },
  {
   "cell_type": "code",
   "execution_count": 28,
   "metadata": {},
   "outputs": [
    {
     "data": {
      "text/html": [
       "<div>\n",
       "<style scoped>\n",
       "    .dataframe tbody tr th:only-of-type {\n",
       "        vertical-align: middle;\n",
       "    }\n",
       "\n",
       "    .dataframe tbody tr th {\n",
       "        vertical-align: top;\n",
       "    }\n",
       "\n",
       "    .dataframe thead th {\n",
       "        text-align: right;\n",
       "    }\n",
       "</style>\n",
       "<table border=\"1\" class=\"dataframe\">\n",
       "  <thead>\n",
       "    <tr style=\"text-align: right;\">\n",
       "      <th></th>\n",
       "      <th>user_id</th>\n",
       "      <th>month</th>\n",
       "      <th>total_min_per_month</th>\n",
       "      <th>total_calls_per_month</th>\n",
       "      <th>messages_sent_per_month</th>\n",
       "      <th>data_vol_gb_per_month</th>\n",
       "      <th>monthly_user_revenue</th>\n",
       "    </tr>\n",
       "  </thead>\n",
       "  <tbody>\n",
       "    <tr>\n",
       "      <td>count</td>\n",
       "      <td>1573.000000</td>\n",
       "      <td>1573.000000</td>\n",
       "      <td>1573.000000</td>\n",
       "      <td>1573.000000</td>\n",
       "      <td>1573.000000</td>\n",
       "      <td>1573.000000</td>\n",
       "      <td>1573.000000</td>\n",
       "    </tr>\n",
       "    <tr>\n",
       "      <td>mean</td>\n",
       "      <td>1242.755245</td>\n",
       "      <td>9.182454</td>\n",
       "      <td>428.749523</td>\n",
       "      <td>59.811825</td>\n",
       "      <td>31.159568</td>\n",
       "      <td>17.037508</td>\n",
       "      <td>63.611685</td>\n",
       "    </tr>\n",
       "    <tr>\n",
       "      <td>std</td>\n",
       "      <td>139.227939</td>\n",
       "      <td>2.468199</td>\n",
       "      <td>234.453150</td>\n",
       "      <td>32.017989</td>\n",
       "      <td>33.566717</td>\n",
       "      <td>8.016395</td>\n",
       "      <td>57.407297</td>\n",
       "    </tr>\n",
       "    <tr>\n",
       "      <td>min</td>\n",
       "      <td>1001.000000</td>\n",
       "      <td>1.000000</td>\n",
       "      <td>0.000000</td>\n",
       "      <td>0.000000</td>\n",
       "      <td>0.000000</td>\n",
       "      <td>0.000000</td>\n",
       "      <td>20.000000</td>\n",
       "    </tr>\n",
       "    <tr>\n",
       "      <td>25%</td>\n",
       "      <td>1120.000000</td>\n",
       "      <td>8.000000</td>\n",
       "      <td>272.000000</td>\n",
       "      <td>39.000000</td>\n",
       "      <td>3.000000</td>\n",
       "      <td>12.000000</td>\n",
       "      <td>20.000000</td>\n",
       "    </tr>\n",
       "    <tr>\n",
       "      <td>50%</td>\n",
       "      <td>1245.000000</td>\n",
       "      <td>10.000000</td>\n",
       "      <td>425.000000</td>\n",
       "      <td>60.000000</td>\n",
       "      <td>24.000000</td>\n",
       "      <td>17.000000</td>\n",
       "      <td>43.810000</td>\n",
       "    </tr>\n",
       "    <tr>\n",
       "      <td>75%</td>\n",
       "      <td>1358.000000</td>\n",
       "      <td>11.000000</td>\n",
       "      <td>576.000000</td>\n",
       "      <td>79.000000</td>\n",
       "      <td>47.000000</td>\n",
       "      <td>21.000000</td>\n",
       "      <td>90.000000</td>\n",
       "    </tr>\n",
       "    <tr>\n",
       "      <td>max</td>\n",
       "      <td>1499.000000</td>\n",
       "      <td>12.000000</td>\n",
       "      <td>1510.000000</td>\n",
       "      <td>205.000000</td>\n",
       "      <td>266.000000</td>\n",
       "      <td>71.000000</td>\n",
       "      <td>600.370000</td>\n",
       "    </tr>\n",
       "  </tbody>\n",
       "</table>\n",
       "</div>"
      ],
      "text/plain": [
       "           user_id        month  total_min_per_month  total_calls_per_month  \\\n",
       "count  1573.000000  1573.000000          1573.000000            1573.000000   \n",
       "mean   1242.755245     9.182454           428.749523              59.811825   \n",
       "std     139.227939     2.468199           234.453150              32.017989   \n",
       "min    1001.000000     1.000000             0.000000               0.000000   \n",
       "25%    1120.000000     8.000000           272.000000              39.000000   \n",
       "50%    1245.000000    10.000000           425.000000              60.000000   \n",
       "75%    1358.000000    11.000000           576.000000              79.000000   \n",
       "max    1499.000000    12.000000          1510.000000             205.000000   \n",
       "\n",
       "       messages_sent_per_month  data_vol_gb_per_month  monthly_user_revenue  \n",
       "count              1573.000000            1573.000000           1573.000000  \n",
       "mean                 31.159568              17.037508             63.611685  \n",
       "std                  33.566717               8.016395             57.407297  \n",
       "min                   0.000000               0.000000             20.000000  \n",
       "25%                   3.000000              12.000000             20.000000  \n",
       "50%                  24.000000              17.000000             43.810000  \n",
       "75%                  47.000000              21.000000             90.000000  \n",
       "max                 266.000000              71.000000            600.370000  "
      ]
     },
     "execution_count": 28,
     "metadata": {},
     "output_type": "execute_result"
    }
   ],
   "source": [
    "df_merged[['user_id', 'month', 'total_min_per_month', 'total_calls_per_month', 'messages_sent_per_month', 'data_vol_gb_per_month', 'plan', \n",
    "           'monthly_user_revenue']].query('plan == \"surf\"').describe()"
   ]
  },
  {
   "cell_type": "code",
   "execution_count": 29,
   "metadata": {},
   "outputs": [
    {
     "data": {
      "text/html": [
       "<div>\n",
       "<style scoped>\n",
       "    .dataframe tbody tr th:only-of-type {\n",
       "        vertical-align: middle;\n",
       "    }\n",
       "\n",
       "    .dataframe tbody tr th {\n",
       "        vertical-align: top;\n",
       "    }\n",
       "\n",
       "    .dataframe thead th {\n",
       "        text-align: right;\n",
       "    }\n",
       "</style>\n",
       "<table border=\"1\" class=\"dataframe\">\n",
       "  <thead>\n",
       "    <tr style=\"text-align: right;\">\n",
       "      <th></th>\n",
       "      <th>user_id</th>\n",
       "      <th>month</th>\n",
       "      <th>total_min_per_month</th>\n",
       "      <th>total_calls_per_month</th>\n",
       "      <th>messages_sent_per_month</th>\n",
       "      <th>data_vol_gb_per_month</th>\n",
       "      <th>monthly_user_revenue</th>\n",
       "    </tr>\n",
       "  </thead>\n",
       "  <tbody>\n",
       "    <tr>\n",
       "      <td>count</td>\n",
       "      <td>720.000000</td>\n",
       "      <td>720.000000</td>\n",
       "      <td>720.000000</td>\n",
       "      <td>720.000000</td>\n",
       "      <td>720.000000</td>\n",
       "      <td>720.000000</td>\n",
       "      <td>720.000000</td>\n",
       "    </tr>\n",
       "    <tr>\n",
       "      <td>mean</td>\n",
       "      <td>1253.330556</td>\n",
       "      <td>9.151389</td>\n",
       "      <td>430.450000</td>\n",
       "      <td>60.626389</td>\n",
       "      <td>37.551389</td>\n",
       "      <td>17.719444</td>\n",
       "      <td>72.702778</td>\n",
       "    </tr>\n",
       "    <tr>\n",
       "      <td>std</td>\n",
       "      <td>150.915644</td>\n",
       "      <td>2.558495</td>\n",
       "      <td>240.508762</td>\n",
       "      <td>33.242994</td>\n",
       "      <td>34.767179</td>\n",
       "      <td>7.865289</td>\n",
       "      <td>12.673080</td>\n",
       "    </tr>\n",
       "    <tr>\n",
       "      <td>min</td>\n",
       "      <td>1000.000000</td>\n",
       "      <td>1.000000</td>\n",
       "      <td>0.000000</td>\n",
       "      <td>0.000000</td>\n",
       "      <td>0.000000</td>\n",
       "      <td>0.000000</td>\n",
       "      <td>70.000000</td>\n",
       "    </tr>\n",
       "    <tr>\n",
       "      <td>25%</td>\n",
       "      <td>1126.000000</td>\n",
       "      <td>8.000000</td>\n",
       "      <td>260.000000</td>\n",
       "      <td>36.000000</td>\n",
       "      <td>7.000000</td>\n",
       "      <td>13.000000</td>\n",
       "      <td>70.000000</td>\n",
       "    </tr>\n",
       "    <tr>\n",
       "      <td>50%</td>\n",
       "      <td>1241.500000</td>\n",
       "      <td>10.000000</td>\n",
       "      <td>424.000000</td>\n",
       "      <td>61.000000</td>\n",
       "      <td>30.000000</td>\n",
       "      <td>17.000000</td>\n",
       "      <td>70.000000</td>\n",
       "    </tr>\n",
       "    <tr>\n",
       "      <td>75%</td>\n",
       "      <td>1401.000000</td>\n",
       "      <td>11.000000</td>\n",
       "      <td>565.250000</td>\n",
       "      <td>80.000000</td>\n",
       "      <td>61.000000</td>\n",
       "      <td>22.000000</td>\n",
       "      <td>70.000000</td>\n",
       "    </tr>\n",
       "    <tr>\n",
       "      <td>max</td>\n",
       "      <td>1497.000000</td>\n",
       "      <td>12.000000</td>\n",
       "      <td>1369.000000</td>\n",
       "      <td>191.000000</td>\n",
       "      <td>166.000000</td>\n",
       "      <td>47.000000</td>\n",
       "      <td>189.000000</td>\n",
       "    </tr>\n",
       "  </tbody>\n",
       "</table>\n",
       "</div>"
      ],
      "text/plain": [
       "           user_id       month  total_min_per_month  total_calls_per_month  \\\n",
       "count   720.000000  720.000000           720.000000             720.000000   \n",
       "mean   1253.330556    9.151389           430.450000              60.626389   \n",
       "std     150.915644    2.558495           240.508762              33.242994   \n",
       "min    1000.000000    1.000000             0.000000               0.000000   \n",
       "25%    1126.000000    8.000000           260.000000              36.000000   \n",
       "50%    1241.500000   10.000000           424.000000              61.000000   \n",
       "75%    1401.000000   11.000000           565.250000              80.000000   \n",
       "max    1497.000000   12.000000          1369.000000             191.000000   \n",
       "\n",
       "       messages_sent_per_month  data_vol_gb_per_month  monthly_user_revenue  \n",
       "count               720.000000             720.000000            720.000000  \n",
       "mean                 37.551389              17.719444             72.702778  \n",
       "std                  34.767179               7.865289             12.673080  \n",
       "min                   0.000000               0.000000             70.000000  \n",
       "25%                   7.000000              13.000000             70.000000  \n",
       "50%                  30.000000              17.000000             70.000000  \n",
       "75%                  61.000000              22.000000             70.000000  \n",
       "max                 166.000000              47.000000            189.000000  "
      ]
     },
     "execution_count": 29,
     "metadata": {},
     "output_type": "execute_result"
    }
   ],
   "source": [
    "df_merged[['user_id', 'month', 'total_min_per_month', 'total_calls_per_month', 'messages_sent_per_month', 'data_vol_gb_per_month', 'plan', \n",
    "           'monthly_user_revenue']].query('plan == \"ultimate\"').describe()"
   ]
  },
  {
   "cell_type": "markdown",
   "metadata": {},
   "source": [
    "The customers of Megaline in 2018 averaged 60 calls, 430 minutes, 33 text messages and 17 GB per month. The average monthly revenue per user was $66.5. \n",
    "\n",
    "For the \"Surf\" plan specifically, the customers of Megaline in 2018 averaged 60 calls, 429 minutes, 31 text messages and 17 GB per month. The average monthly revenue per user was $63.6. \n",
    "\n",
    "For the \"Ultimate\" plan specifically, the customers of Megaline in 2018 averaged 61 calls, 430 minutes, 38 text messages and 18 GB per month. The average monthly revenue per user was $72.7. "
   ]
  },
  {
   "cell_type": "code",
   "execution_count": 30,
   "metadata": {},
   "outputs": [
    {
     "data": {
      "text/html": [
       "<div>\n",
       "<style scoped>\n",
       "    .dataframe tbody tr th:only-of-type {\n",
       "        vertical-align: middle;\n",
       "    }\n",
       "\n",
       "    .dataframe tbody tr th {\n",
       "        vertical-align: top;\n",
       "    }\n",
       "\n",
       "    .dataframe thead th {\n",
       "        text-align: right;\n",
       "    }\n",
       "</style>\n",
       "<table border=\"1\" class=\"dataframe\">\n",
       "  <thead>\n",
       "    <tr style=\"text-align: right;\">\n",
       "      <th></th>\n",
       "      <th></th>\n",
       "      <th>monthly_user_revenue</th>\n",
       "    </tr>\n",
       "    <tr>\n",
       "      <th>month</th>\n",
       "      <th>plan</th>\n",
       "      <th></th>\n",
       "    </tr>\n",
       "  </thead>\n",
       "  <tbody>\n",
       "    <tr>\n",
       "      <td rowspan=\"2\" valign=\"top\">1</td>\n",
       "      <td>surf</td>\n",
       "      <td>40.00</td>\n",
       "    </tr>\n",
       "    <tr>\n",
       "      <td>ultimate</td>\n",
       "      <td>280.00</td>\n",
       "    </tr>\n",
       "    <tr>\n",
       "      <td rowspan=\"2\" valign=\"top\">2</td>\n",
       "      <td>surf</td>\n",
       "      <td>339.57</td>\n",
       "    </tr>\n",
       "    <tr>\n",
       "      <td>ultimate</td>\n",
       "      <td>490.00</td>\n",
       "    </tr>\n",
       "    <tr>\n",
       "      <td rowspan=\"2\" valign=\"top\">3</td>\n",
       "      <td>surf</td>\n",
       "      <td>1106.65</td>\n",
       "    </tr>\n",
       "    <tr>\n",
       "      <td>ultimate</td>\n",
       "      <td>910.00</td>\n",
       "    </tr>\n",
       "    <tr>\n",
       "      <td rowspan=\"2\" valign=\"top\">4</td>\n",
       "      <td>surf</td>\n",
       "      <td>2105.53</td>\n",
       "    </tr>\n",
       "    <tr>\n",
       "      <td>ultimate</td>\n",
       "      <td>1547.00</td>\n",
       "    </tr>\n",
       "    <tr>\n",
       "      <td rowspan=\"2\" valign=\"top\">5</td>\n",
       "      <td>surf</td>\n",
       "      <td>3857.37</td>\n",
       "    </tr>\n",
       "    <tr>\n",
       "      <td>ultimate</td>\n",
       "      <td>2058.00</td>\n",
       "    </tr>\n",
       "    <tr>\n",
       "      <td rowspan=\"2\" valign=\"top\">6</td>\n",
       "      <td>surf</td>\n",
       "      <td>4979.80</td>\n",
       "    </tr>\n",
       "    <tr>\n",
       "      <td>ultimate</td>\n",
       "      <td>3374.00</td>\n",
       "    </tr>\n",
       "    <tr>\n",
       "      <td rowspan=\"2\" valign=\"top\">7</td>\n",
       "      <td>surf</td>\n",
       "      <td>8013.56</td>\n",
       "    </tr>\n",
       "    <tr>\n",
       "      <td>ultimate</td>\n",
       "      <td>4256.00</td>\n",
       "    </tr>\n",
       "    <tr>\n",
       "      <td rowspan=\"2\" valign=\"top\">8</td>\n",
       "      <td>surf</td>\n",
       "      <td>10876.85</td>\n",
       "    </tr>\n",
       "    <tr>\n",
       "      <td>ultimate</td>\n",
       "      <td>5215.00</td>\n",
       "    </tr>\n",
       "    <tr>\n",
       "      <td rowspan=\"2\" valign=\"top\">9</td>\n",
       "      <td>surf</td>\n",
       "      <td>11854.67</td>\n",
       "    </tr>\n",
       "    <tr>\n",
       "      <td>ultimate</td>\n",
       "      <td>6223.00</td>\n",
       "    </tr>\n",
       "    <tr>\n",
       "      <td rowspan=\"2\" valign=\"top\">10</td>\n",
       "      <td>surf</td>\n",
       "      <td>16154.83</td>\n",
       "    </tr>\n",
       "    <tr>\n",
       "      <td>ultimate</td>\n",
       "      <td>7700.00</td>\n",
       "    </tr>\n",
       "    <tr>\n",
       "      <td rowspan=\"2\" valign=\"top\">11</td>\n",
       "      <td>surf</td>\n",
       "      <td>17305.21</td>\n",
       "    </tr>\n",
       "    <tr>\n",
       "      <td>ultimate</td>\n",
       "      <td>9142.00</td>\n",
       "    </tr>\n",
       "    <tr>\n",
       "      <td rowspan=\"2\" valign=\"top\">12</td>\n",
       "      <td>surf</td>\n",
       "      <td>23427.14</td>\n",
       "    </tr>\n",
       "    <tr>\n",
       "      <td>ultimate</td>\n",
       "      <td>11151.00</td>\n",
       "    </tr>\n",
       "  </tbody>\n",
       "</table>\n",
       "</div>"
      ],
      "text/plain": [
       "                monthly_user_revenue\n",
       "month plan                          \n",
       "1     surf                     40.00\n",
       "      ultimate                280.00\n",
       "2     surf                    339.57\n",
       "      ultimate                490.00\n",
       "3     surf                   1106.65\n",
       "      ultimate                910.00\n",
       "4     surf                   2105.53\n",
       "      ultimate               1547.00\n",
       "5     surf                   3857.37\n",
       "      ultimate               2058.00\n",
       "6     surf                   4979.80\n",
       "      ultimate               3374.00\n",
       "7     surf                   8013.56\n",
       "      ultimate               4256.00\n",
       "8     surf                  10876.85\n",
       "      ultimate               5215.00\n",
       "9     surf                  11854.67\n",
       "      ultimate               6223.00\n",
       "10    surf                  16154.83\n",
       "      ultimate               7700.00\n",
       "11    surf                  17305.21\n",
       "      ultimate               9142.00\n",
       "12    surf                  23427.14\n",
       "      ultimate              11151.00"
      ]
     },
     "execution_count": 30,
     "metadata": {},
     "output_type": "execute_result"
    }
   ],
   "source": [
    "df_merged.pivot_table(index=[\"month\", \"plan\"], values=\"monthly_user_revenue\", aggfunc= \"sum\")"
   ]
  },
  {
   "cell_type": "code",
   "execution_count": 31,
   "metadata": {},
   "outputs": [
    {
     "data": {
      "image/png": "[encoded data removed]",
      "text/plain": [
       "<Figure size 432x288 with 1 Axes>"
      ]
     },
     "metadata": {
      "needs_background": "light"
     },
     "output_type": "display_data"
    },
    {
     "data": {
      "image/png": "[encoded data removed]",
      "text/plain": [
       "<Figure size 432x288 with 1 Axes>"
      ]
     },
     "metadata": {
      "needs_background": "light"
     },
     "output_type": "display_data"
    }
   ],
   "source": [
    "total_revenue_month_plan = df_merged.groupby(['plan','month'])['monthly_user_revenue'].sum().reset_index()\n",
    "total_revenue_month_plan[total_revenue_month_plan['plan'] == 'surf'].plot(y='monthly_user_revenue', x='month', kind='bar')\n",
    "plt.title('Monthly \"Surf\" revenue');\n",
    "\n",
    "total_revenue_month_plan[total_revenue_month_plan['plan'] == 'ultimate'].plot(y='monthly_user_revenue', x='month', kind='bar')\n",
    "plt.title('Monthly \"Ultimate\" revenue');\n"
   ]
  },
  {
   "cell_type": "markdown",
   "metadata": {},
   "source": [
    "I plotted bar charts to show monthly totals for each months and plan."
   ]
  },
  {
   "cell_type": "code",
   "execution_count": 32,
   "metadata": {},
   "outputs": [
    {
     "data": {
      "image/png": "[encoded data removed]",
      "text/plain": [
       "<Figure size 1080x720 with 4 Axes>"
      ]
     },
     "metadata": {
      "needs_background": "light"
     },
     "output_type": "display_data"
    }
   ],
   "source": [
    "df_merged[['total_min_per_month', 'total_calls_per_month', 'messages_sent_per_month', 'data_vol_gb_per_month']].hist(bins = 30, figsize = (15, 10))\n",
    "plt.suptitle('Histograms for the required parameters', y = 1);\n"
   ]
  },
  {
   "cell_type": "markdown",
   "metadata": {},
   "source": [
    "I plotted histograms for 4 columns: 'total_min_per_month', 'total_calls_per_month', 'messages_sent_per_month' and 'data_vol_gb_per_month'. From the histograms we can see that the distribution is skewed to the right. We need to determine the upper limits of outliers, remove the outliers and store them in a separate DataFrame, and continue working with the filtered data."
   ]
  },
  {
   "cell_type": "code",
   "execution_count": 33,
   "metadata": {},
   "outputs": [
    {
     "data": {
      "image/png": "[encoded data removed]",
      "text/plain": [
       "<Figure size 1080x720 with 4 Axes>"
      ]
     },
     "metadata": {
      "needs_background": "light"
     },
     "output_type": "display_data"
    }
   ],
   "source": [
    "filtered_data = df_merged[['total_min_per_month', 'total_calls_per_month', 'messages_sent_per_month', 'data_vol_gb_per_month']]\n",
    "Q1 = filtered_data.quantile(0.25)\n",
    "Q3 = filtered_data.quantile(0.75)\n",
    "IQR = Q3 - Q1\n",
    "filtered_data = filtered_data[~((filtered_data < (Q1 - 1.5 * IQR)) |(filtered_data > (Q3 + 1.5 * IQR))).any(axis=1)]\n",
    "filtered_data.hist(bins = 30, figsize = (15, 10))\n",
    "plt.suptitle('Updated histograms for the required parameters', y = 1);"
   ]
  },
  {
   "cell_type": "markdown",
   "metadata": {},
   "source": [
    "We can see that the new histograms are not skewed anymore. The mean is now closer do the median, and the data distribution is closer to a normal distribution. Outliers removed successfully. "
   ]
  },
  {
   "cell_type": "code",
   "execution_count": 34,
   "metadata": {},
   "outputs": [],
   "source": [
    "filtered_data = df_merged[['total_calls_per_month',  'total_min_per_month', 'messages_sent_per_month', \n",
    "                           'data_vol_gb_per_month', 'monthly_user_revenue']]\n",
    "Q1 = filtered_data.quantile(0.25)\n",
    "Q3 = filtered_data.quantile(0.75)\n",
    "IQR = Q3 - Q1\n",
    "filtered_data = filtered_data[~((filtered_data < (Q1 - 1.5 * IQR)) |(filtered_data > (Q3 + 1.5 * IQR))).any(axis=1)]\n",
    "filtered_data['plan'] = df_merged['plan']\n",
    "ultimate_df = filtered_data.query(\"plan == 'ultimate'\")[['total_calls_per_month', \n",
    "                                                     'total_min_per_month', 'messages_sent_per_month', \n",
    "                                                     'data_vol_gb_per_month', 'monthly_user_revenue']]\n",
    "\n",
    "surf_df = filtered_data.query(\"plan == 'surf'\")[['total_calls_per_month', \n",
    "                                                     'total_min_per_month', 'messages_sent_per_month', \n",
    "                                                     'data_vol_gb_per_month', 'monthly_user_revenue']]\n",
    "\n"
   ]
  },
  {
   "cell_type": "markdown",
   "metadata": {},
   "source": [
    "I separated the filtered dataframe to each plan - \"surf\" and \"ultimate\" to be used in the next step. "
   ]
  },
  {
   "cell_type": "markdown",
   "metadata": {},
   "source": [
    "**Find the minutes the users of each plan require per month:**"
   ]
  },
  {
   "cell_type": "code",
   "execution_count": 35,
   "metadata": {},
   "outputs": [
    {
     "data": {
      "text/html": [
       "<div>\n",
       "<style scoped>\n",
       "    .dataframe tbody tr th:only-of-type {\n",
       "        vertical-align: middle;\n",
       "    }\n",
       "\n",
       "    .dataframe tbody tr th {\n",
       "        vertical-align: top;\n",
       "    }\n",
       "\n",
       "    .dataframe thead th {\n",
       "        text-align: right;\n",
       "    }\n",
       "</style>\n",
       "<table border=\"1\" class=\"dataframe\">\n",
       "  <thead>\n",
       "    <tr style=\"text-align: right;\">\n",
       "      <th></th>\n",
       "      <th>count</th>\n",
       "      <th>mean</th>\n",
       "      <th>std</th>\n",
       "      <th>min</th>\n",
       "      <th>25%</th>\n",
       "      <th>50%</th>\n",
       "      <th>75%</th>\n",
       "      <th>max</th>\n",
       "      <th>var</th>\n",
       "    </tr>\n",
       "    <tr>\n",
       "      <th>plan</th>\n",
       "      <th></th>\n",
       "      <th></th>\n",
       "      <th></th>\n",
       "      <th></th>\n",
       "      <th></th>\n",
       "      <th></th>\n",
       "      <th></th>\n",
       "      <th></th>\n",
       "      <th></th>\n",
       "    </tr>\n",
       "  </thead>\n",
       "  <tbody>\n",
       "    <tr>\n",
       "      <td>surf</td>\n",
       "      <td>1573.0</td>\n",
       "      <td>428.749523</td>\n",
       "      <td>234.453150</td>\n",
       "      <td>0.0</td>\n",
       "      <td>272.0</td>\n",
       "      <td>425.0</td>\n",
       "      <td>576.00</td>\n",
       "      <td>1510.0</td>\n",
       "      <td>54968.279461</td>\n",
       "    </tr>\n",
       "    <tr>\n",
       "      <td>ultimate</td>\n",
       "      <td>720.0</td>\n",
       "      <td>430.450000</td>\n",
       "      <td>240.508762</td>\n",
       "      <td>0.0</td>\n",
       "      <td>260.0</td>\n",
       "      <td>424.0</td>\n",
       "      <td>565.25</td>\n",
       "      <td>1369.0</td>\n",
       "      <td>57844.464812</td>\n",
       "    </tr>\n",
       "  </tbody>\n",
       "</table>\n",
       "</div>"
      ],
      "text/plain": [
       "           count        mean         std  min    25%    50%     75%     max  \\\n",
       "plan                                                                          \n",
       "surf      1573.0  428.749523  234.453150  0.0  272.0  425.0  576.00  1510.0   \n",
       "ultimate   720.0  430.450000  240.508762  0.0  260.0  424.0  565.25  1369.0   \n",
       "\n",
       "                   var  \n",
       "plan                    \n",
       "surf      54968.279461  \n",
       "ultimate  57844.464812  "
      ]
     },
     "execution_count": 35,
     "metadata": {},
     "output_type": "execute_result"
    }
   ],
   "source": [
    "minutes_req = df_merged.groupby('plan')['total_min_per_month'].describe()\n",
    "minutes_req['var'] = df_merged.groupby('plan')['total_min_per_month'].agg(np.var)\n",
    "minutes_req"
   ]
  },
  {
   "cell_type": "markdown",
   "metadata": {},
   "source": [
    "\"Ultimate\" plan users require on average more minutes per month. "
   ]
  },
  {
   "cell_type": "code",
   "execution_count": 36,
   "metadata": {},
   "outputs": [
    {
     "data": {
      "text/html": [
       "<div>\n",
       "<style scoped>\n",
       "    .dataframe tbody tr th:only-of-type {\n",
       "        vertical-align: middle;\n",
       "    }\n",
       "\n",
       "    .dataframe tbody tr th {\n",
       "        vertical-align: top;\n",
       "    }\n",
       "\n",
       "    .dataframe thead th {\n",
       "        text-align: right;\n",
       "    }\n",
       "</style>\n",
       "<table border=\"1\" class=\"dataframe\">\n",
       "  <thead>\n",
       "    <tr style=\"text-align: right;\">\n",
       "      <th></th>\n",
       "      <th>count</th>\n",
       "      <th>mean</th>\n",
       "      <th>std</th>\n",
       "      <th>min</th>\n",
       "      <th>25%</th>\n",
       "      <th>50%</th>\n",
       "      <th>75%</th>\n",
       "      <th>max</th>\n",
       "      <th>var</th>\n",
       "    </tr>\n",
       "    <tr>\n",
       "      <th>plan</th>\n",
       "      <th></th>\n",
       "      <th></th>\n",
       "      <th></th>\n",
       "      <th></th>\n",
       "      <th></th>\n",
       "      <th></th>\n",
       "      <th></th>\n",
       "      <th></th>\n",
       "      <th></th>\n",
       "    </tr>\n",
       "  </thead>\n",
       "  <tbody>\n",
       "    <tr>\n",
       "      <td>surf</td>\n",
       "      <td>1376.0</td>\n",
       "      <td>406.082849</td>\n",
       "      <td>210.208562</td>\n",
       "      <td>0.0</td>\n",
       "      <td>257.0</td>\n",
       "      <td>410.0</td>\n",
       "      <td>558.00</td>\n",
       "      <td>1029.0</td>\n",
       "      <td>44187.639677</td>\n",
       "    </tr>\n",
       "    <tr>\n",
       "      <td>ultimate</td>\n",
       "      <td>654.0</td>\n",
       "      <td>411.373089</td>\n",
       "      <td>205.253360</td>\n",
       "      <td>0.0</td>\n",
       "      <td>260.5</td>\n",
       "      <td>419.0</td>\n",
       "      <td>541.75</td>\n",
       "      <td>987.0</td>\n",
       "      <td>42128.941756</td>\n",
       "    </tr>\n",
       "  </tbody>\n",
       "</table>\n",
       "</div>"
      ],
      "text/plain": [
       "           count        mean         std  min    25%    50%     75%     max  \\\n",
       "plan                                                                          \n",
       "surf      1376.0  406.082849  210.208562  0.0  257.0  410.0  558.00  1029.0   \n",
       "ultimate   654.0  411.373089  205.253360  0.0  260.5  419.0  541.75   987.0   \n",
       "\n",
       "                   var  \n",
       "plan                    \n",
       "surf      44187.639677  \n",
       "ultimate  42128.941756  "
      ]
     },
     "execution_count": 36,
     "metadata": {},
     "output_type": "execute_result"
    }
   ],
   "source": [
    "filtered_data['plan'] = df_merged['plan']\n",
    "minutes_req_fil = filtered_data.groupby('plan')['total_min_per_month'].describe()\n",
    "minutes_req_fil['var'] = filtered_data.groupby('plan')['total_min_per_month'].agg(np.var)\n",
    "minutes_req_fil"
   ]
  },
  {
   "cell_type": "markdown",
   "metadata": {},
   "source": [
    "**Both variance and standard deviation are measure of spread or dispersion around the mean of a data set. We know that 99% of the values are found within three standard deviations of the mean, for example surf minutes: (406-3x210, 406+3x210). Values outside this interval are outliers.**"
   ]
  },
  {
   "cell_type": "code",
   "execution_count": 37,
   "metadata": {},
   "outputs": [
    {
     "data": {
      "text/html": [
       "<div>\n",
       "<style scoped>\n",
       "    .dataframe tbody tr th:only-of-type {\n",
       "        vertical-align: middle;\n",
       "    }\n",
       "\n",
       "    .dataframe tbody tr th {\n",
       "        vertical-align: top;\n",
       "    }\n",
       "\n",
       "    .dataframe thead th {\n",
       "        text-align: right;\n",
       "    }\n",
       "</style>\n",
       "<table border=\"1\" class=\"dataframe\">\n",
       "  <thead>\n",
       "    <tr style=\"text-align: right;\">\n",
       "      <th></th>\n",
       "      <th>total_calls_per_month</th>\n",
       "      <th>total_min_per_month</th>\n",
       "      <th>messages_sent_per_month</th>\n",
       "      <th>data_vol_gb_per_month</th>\n",
       "      <th>monthly_user_revenue</th>\n",
       "    </tr>\n",
       "  </thead>\n",
       "  <tbody>\n",
       "    <tr>\n",
       "      <td>count</td>\n",
       "      <td>1376.000000</td>\n",
       "      <td>1376.000000</td>\n",
       "      <td>1376.000000</td>\n",
       "      <td>1376.000000</td>\n",
       "      <td>1376.000000</td>\n",
       "    </tr>\n",
       "    <tr>\n",
       "      <td>mean</td>\n",
       "      <td>56.582849</td>\n",
       "      <td>406.082849</td>\n",
       "      <td>27.145349</td>\n",
       "      <td>15.632994</td>\n",
       "      <td>49.768576</td>\n",
       "    </tr>\n",
       "    <tr>\n",
       "      <td>std</td>\n",
       "      <td>28.650376</td>\n",
       "      <td>210.208562</td>\n",
       "      <td>27.036957</td>\n",
       "      <td>6.096178</td>\n",
       "      <td>33.094969</td>\n",
       "    </tr>\n",
       "    <tr>\n",
       "      <td>min</td>\n",
       "      <td>0.000000</td>\n",
       "      <td>0.000000</td>\n",
       "      <td>0.000000</td>\n",
       "      <td>1.000000</td>\n",
       "      <td>20.000000</td>\n",
       "    </tr>\n",
       "    <tr>\n",
       "      <td>25%</td>\n",
       "      <td>37.000000</td>\n",
       "      <td>257.000000</td>\n",
       "      <td>2.000000</td>\n",
       "      <td>12.000000</td>\n",
       "      <td>20.000000</td>\n",
       "    </tr>\n",
       "    <tr>\n",
       "      <td>50%</td>\n",
       "      <td>57.000000</td>\n",
       "      <td>410.000000</td>\n",
       "      <td>21.500000</td>\n",
       "      <td>17.000000</td>\n",
       "      <td>40.000000</td>\n",
       "    </tr>\n",
       "    <tr>\n",
       "      <td>75%</td>\n",
       "      <td>77.000000</td>\n",
       "      <td>558.000000</td>\n",
       "      <td>42.000000</td>\n",
       "      <td>20.000000</td>\n",
       "      <td>71.200000</td>\n",
       "    </tr>\n",
       "    <tr>\n",
       "      <td>max</td>\n",
       "      <td>140.000000</td>\n",
       "      <td>1029.000000</td>\n",
       "      <td>123.000000</td>\n",
       "      <td>26.000000</td>\n",
       "      <td>136.420000</td>\n",
       "    </tr>\n",
       "  </tbody>\n",
       "</table>\n",
       "</div>"
      ],
      "text/plain": [
       "       total_calls_per_month  total_min_per_month  messages_sent_per_month  \\\n",
       "count            1376.000000          1376.000000              1376.000000   \n",
       "mean               56.582849           406.082849                27.145349   \n",
       "std                28.650376           210.208562                27.036957   \n",
       "min                 0.000000             0.000000                 0.000000   \n",
       "25%                37.000000           257.000000                 2.000000   \n",
       "50%                57.000000           410.000000                21.500000   \n",
       "75%                77.000000           558.000000                42.000000   \n",
       "max               140.000000          1029.000000               123.000000   \n",
       "\n",
       "       data_vol_gb_per_month  monthly_user_revenue  \n",
       "count            1376.000000           1376.000000  \n",
       "mean               15.632994             49.768576  \n",
       "std                 6.096178             33.094969  \n",
       "min                 1.000000             20.000000  \n",
       "25%                12.000000             20.000000  \n",
       "50%                17.000000             40.000000  \n",
       "75%                20.000000             71.200000  \n",
       "max                26.000000            136.420000  "
      ]
     },
     "execution_count": 37,
     "metadata": {},
     "output_type": "execute_result"
    }
   ],
   "source": [
    "surf_df.describe()"
   ]
  },
  {
   "cell_type": "code",
   "execution_count": 38,
   "metadata": {},
   "outputs": [
    {
     "data": {
      "text/html": [
       "<div>\n",
       "<style scoped>\n",
       "    .dataframe tbody tr th:only-of-type {\n",
       "        vertical-align: middle;\n",
       "    }\n",
       "\n",
       "    .dataframe tbody tr th {\n",
       "        vertical-align: top;\n",
       "    }\n",
       "\n",
       "    .dataframe thead th {\n",
       "        text-align: right;\n",
       "    }\n",
       "</style>\n",
       "<table border=\"1\" class=\"dataframe\">\n",
       "  <thead>\n",
       "    <tr style=\"text-align: right;\">\n",
       "      <th></th>\n",
       "      <th>total_calls_per_month</th>\n",
       "      <th>total_min_per_month</th>\n",
       "      <th>messages_sent_per_month</th>\n",
       "      <th>data_vol_gb_per_month</th>\n",
       "      <th>monthly_user_revenue</th>\n",
       "    </tr>\n",
       "  </thead>\n",
       "  <tbody>\n",
       "    <tr>\n",
       "      <td>count</td>\n",
       "      <td>654.000000</td>\n",
       "      <td>654.000000</td>\n",
       "      <td>654.000000</td>\n",
       "      <td>654.000000</td>\n",
       "      <td>654.000000</td>\n",
       "    </tr>\n",
       "    <tr>\n",
       "      <td>mean</td>\n",
       "      <td>58.033639</td>\n",
       "      <td>411.373089</td>\n",
       "      <td>32.399083</td>\n",
       "      <td>16.544343</td>\n",
       "      <td>70.256881</td>\n",
       "    </tr>\n",
       "    <tr>\n",
       "      <td>std</td>\n",
       "      <td>28.400474</td>\n",
       "      <td>205.253360</td>\n",
       "      <td>29.126614</td>\n",
       "      <td>6.555945</td>\n",
       "      <td>1.996492</td>\n",
       "    </tr>\n",
       "    <tr>\n",
       "      <td>min</td>\n",
       "      <td>0.000000</td>\n",
       "      <td>0.000000</td>\n",
       "      <td>0.000000</td>\n",
       "      <td>1.000000</td>\n",
       "      <td>70.000000</td>\n",
       "    </tr>\n",
       "    <tr>\n",
       "      <td>25%</td>\n",
       "      <td>36.000000</td>\n",
       "      <td>260.500000</td>\n",
       "      <td>5.000000</td>\n",
       "      <td>13.000000</td>\n",
       "      <td>70.000000</td>\n",
       "    </tr>\n",
       "    <tr>\n",
       "      <td>50%</td>\n",
       "      <td>60.000000</td>\n",
       "      <td>419.000000</td>\n",
       "      <td>27.000000</td>\n",
       "      <td>17.000000</td>\n",
       "      <td>70.000000</td>\n",
       "    </tr>\n",
       "    <tr>\n",
       "      <td>75%</td>\n",
       "      <td>77.000000</td>\n",
       "      <td>541.750000</td>\n",
       "      <td>54.000000</td>\n",
       "      <td>21.000000</td>\n",
       "      <td>70.000000</td>\n",
       "    </tr>\n",
       "    <tr>\n",
       "      <td>max</td>\n",
       "      <td>140.000000</td>\n",
       "      <td>987.000000</td>\n",
       "      <td>123.000000</td>\n",
       "      <td>33.000000</td>\n",
       "      <td>91.000000</td>\n",
       "    </tr>\n",
       "  </tbody>\n",
       "</table>\n",
       "</div>"
      ],
      "text/plain": [
       "       total_calls_per_month  total_min_per_month  messages_sent_per_month  \\\n",
       "count             654.000000           654.000000               654.000000   \n",
       "mean               58.033639           411.373089                32.399083   \n",
       "std                28.400474           205.253360                29.126614   \n",
       "min                 0.000000             0.000000                 0.000000   \n",
       "25%                36.000000           260.500000                 5.000000   \n",
       "50%                60.000000           419.000000                27.000000   \n",
       "75%                77.000000           541.750000                54.000000   \n",
       "max               140.000000           987.000000               123.000000   \n",
       "\n",
       "       data_vol_gb_per_month  monthly_user_revenue  \n",
       "count             654.000000            654.000000  \n",
       "mean               16.544343             70.256881  \n",
       "std                 6.555945              1.996492  \n",
       "min                 1.000000             70.000000  \n",
       "25%                13.000000             70.000000  \n",
       "50%                17.000000             70.000000  \n",
       "75%                21.000000             70.000000  \n",
       "max                33.000000             91.000000  "
      ]
     },
     "execution_count": 38,
     "metadata": {},
     "output_type": "execute_result"
    }
   ],
   "source": [
    "ultimate_df.describe()"
   ]
  },
  {
   "cell_type": "markdown",
   "metadata": {},
   "source": [
    "\"surf\" customer averages per month are: 57 calls, 406 total call minutes duration, 27 text messages and 16 GB of data.\n",
    "\"ultimate\" customer averages per month are: 58 calls, 411 total call minutes duration, 32 text messages and 17 GB of data."
   ]
  },
  {
   "cell_type": "code",
   "execution_count": 39,
   "metadata": {},
   "outputs": [
    {
     "data": {
      "image/png": "[encoded data removed]",
      "text/plain": [
       "<Figure size 576x432 with 1 Axes>"
      ]
     },
     "metadata": {
      "needs_background": "light"
     },
     "output_type": "display_data"
    }
   ],
   "source": [
    "plt.figure(figsize=(8,6))\n",
    "plt.hist(surf_df['total_calls_per_month'], bins=20, alpha=0.5, label='surf plan')\n",
    "plt.hist(ultimate_df['total_calls_per_month'], bins=20, alpha=0.5, label='ultimate plan')\n",
    "\n",
    "\n",
    "plt.xlabel('Calls', size=12)\n",
    "plt.title('Number of calls per month')\n",
    "plt.legend(loc='upper right');"
   ]
  },
  {
   "cell_type": "markdown",
   "metadata": {},
   "source": [
    "From the histogram above, we can compare the number of calls distribution across plans. The customers using surf plan made more calls per month.   "
   ]
  },
  {
   "cell_type": "code",
   "execution_count": 40,
   "metadata": {},
   "outputs": [
    {
     "name": "stderr",
     "output_type": "stream",
     "text": [
      "/opt/conda/lib/python3.7/site-packages/numpy/core/_asarray.py:83: VisibleDeprecationWarning: Creating an ndarray from ragged nested sequences (which is a list-or-tuple of lists-or-tuples-or ndarrays with different lengths or shapes) is deprecated. If you meant to do this, you must specify 'dtype=object' when creating the ndarray\n",
      "  return array(a, dtype, copy=False, order=order)\n"
     ]
    },
    {
     "data": {
      "image/png": "[encoded data removed]",
      "text/plain": [
       "<Figure size 576x432 with 1 Axes>"
      ]
     },
     "metadata": {
      "needs_background": "light"
     },
     "output_type": "display_data"
    }
   ],
   "source": [
    "plt.figure(figsize=(8,6))\n",
    "plt.hist([surf_df['total_calls_per_month'], ultimate_df['total_calls_per_month']],  label= ['surf plan', 'ultimate plan'], density = True)\n",
    "plt.legend()\n",
    "plt.ylabel('Frequency Density')\n",
    "plt.xlabel('Calls')\n",
    "plt.title('Number of calls per month');"
   ]
  },
  {
   "cell_type": "markdown",
   "metadata": {},
   "source": [
    "From the histogram above, we can compare the frequency density of number of calls distribution across plans. According to the frequency density the customers using surf plan made more calls per month. "
   ]
  },
  {
   "cell_type": "code",
   "execution_count": 41,
   "metadata": {},
   "outputs": [
    {
     "data": {
      "image/png": "[encoded data removed]",
      "text/plain": [
       "<Figure size 576x432 with 1 Axes>"
      ]
     },
     "metadata": {
      "needs_background": "light"
     },
     "output_type": "display_data"
    }
   ],
   "source": [
    "plt.figure(figsize=(8,6))\n",
    "plt.hist(surf_df['total_min_per_month'], bins=20, alpha=0.5, label='surf plan')\n",
    "plt.hist(ultimate_df['total_min_per_month'], bins=20, alpha=0.5, label='ultimate plan')\n",
    "\n",
    "\n",
    "plt.xlabel('Duration', size=12)\n",
    "plt.title('Calls duration minutes per month')\n",
    "plt.legend(loc='upper right');"
   ]
  },
  {
   "cell_type": "code",
   "execution_count": 42,
   "metadata": {},
   "outputs": [
    {
     "data": {
      "image/png": "[encoded data removed]",
      "text/plain": [
       "<Figure size 576x432 with 1 Axes>"
      ]
     },
     "metadata": {
      "needs_background": "light"
     },
     "output_type": "display_data"
    }
   ],
   "source": [
    "plt.figure(figsize=(8,6))\n",
    "plt.hist([surf_df['total_min_per_month'], ultimate_df['total_min_per_month']],  label= ['surf plan', 'ultimate plan'], density = True)\n",
    "plt.legend()\n",
    "plt.ylabel('Frequency Density')\n",
    "plt.xlabel('Duration')\n",
    "plt.title('Calls duration minutes per month');"
   ]
  },
  {
   "cell_type": "markdown",
   "metadata": {},
   "source": [
    "The customers behavior for both plans follow a similar trend. Both peaks at around 500 minutes. The surf plans customers talked for larger total amount of minutes. There were more surf plan customers that made calls."
   ]
  },
  {
   "cell_type": "markdown",
   "metadata": {},
   "source": [
    "**Find the text messages the users of each plan require per month:**"
   ]
  },
  {
   "cell_type": "code",
   "execution_count": 43,
   "metadata": {},
   "outputs": [
    {
     "data": {
      "text/html": [
       "<div>\n",
       "<style scoped>\n",
       "    .dataframe tbody tr th:only-of-type {\n",
       "        vertical-align: middle;\n",
       "    }\n",
       "\n",
       "    .dataframe tbody tr th {\n",
       "        vertical-align: top;\n",
       "    }\n",
       "\n",
       "    .dataframe thead th {\n",
       "        text-align: right;\n",
       "    }\n",
       "</style>\n",
       "<table border=\"1\" class=\"dataframe\">\n",
       "  <thead>\n",
       "    <tr style=\"text-align: right;\">\n",
       "      <th></th>\n",
       "      <th>count</th>\n",
       "      <th>mean</th>\n",
       "      <th>std</th>\n",
       "      <th>min</th>\n",
       "      <th>25%</th>\n",
       "      <th>50%</th>\n",
       "      <th>75%</th>\n",
       "      <th>max</th>\n",
       "      <th>var</th>\n",
       "    </tr>\n",
       "    <tr>\n",
       "      <th>plan</th>\n",
       "      <th></th>\n",
       "      <th></th>\n",
       "      <th></th>\n",
       "      <th></th>\n",
       "      <th></th>\n",
       "      <th></th>\n",
       "      <th></th>\n",
       "      <th></th>\n",
       "      <th></th>\n",
       "    </tr>\n",
       "  </thead>\n",
       "  <tbody>\n",
       "    <tr>\n",
       "      <td>surf</td>\n",
       "      <td>1573.0</td>\n",
       "      <td>31.159568</td>\n",
       "      <td>33.566717</td>\n",
       "      <td>0.0</td>\n",
       "      <td>3.0</td>\n",
       "      <td>24.0</td>\n",
       "      <td>47.0</td>\n",
       "      <td>266.0</td>\n",
       "      <td>1126.724522</td>\n",
       "    </tr>\n",
       "    <tr>\n",
       "      <td>ultimate</td>\n",
       "      <td>720.0</td>\n",
       "      <td>37.551389</td>\n",
       "      <td>34.767179</td>\n",
       "      <td>0.0</td>\n",
       "      <td>7.0</td>\n",
       "      <td>30.0</td>\n",
       "      <td>61.0</td>\n",
       "      <td>166.0</td>\n",
       "      <td>1208.756744</td>\n",
       "    </tr>\n",
       "  </tbody>\n",
       "</table>\n",
       "</div>"
      ],
      "text/plain": [
       "           count       mean        std  min  25%   50%   75%    max  \\\n",
       "plan                                                                  \n",
       "surf      1573.0  31.159568  33.566717  0.0  3.0  24.0  47.0  266.0   \n",
       "ultimate   720.0  37.551389  34.767179  0.0  7.0  30.0  61.0  166.0   \n",
       "\n",
       "                  var  \n",
       "plan                   \n",
       "surf      1126.724522  \n",
       "ultimate  1208.756744  "
      ]
     },
     "execution_count": 43,
     "metadata": {},
     "output_type": "execute_result"
    }
   ],
   "source": [
    "messages_req = df_merged.groupby('plan')['messages_sent_per_month'].describe()\n",
    "messages_req['var'] = df_merged.groupby('plan')['messages_sent_per_month'].agg(np.var)\n",
    "messages_req"
   ]
  },
  {
   "cell_type": "markdown",
   "metadata": {},
   "source": [
    "\"Ultimate\" plan users require on average more messages per month. "
   ]
  },
  {
   "cell_type": "code",
   "execution_count": 44,
   "metadata": {},
   "outputs": [
    {
     "data": {
      "image/png": "[encoded data removed]",
      "text/plain": [
       "<Figure size 576x432 with 1 Axes>"
      ]
     },
     "metadata": {
      "needs_background": "light"
     },
     "output_type": "display_data"
    }
   ],
   "source": [
    "plt.figure(figsize=(8,6))\n",
    "plt.hist(surf_df['messages_sent_per_month'], bins=20, alpha=0.5, label='surf plan')\n",
    "plt.hist(ultimate_df['messages_sent_per_month'], bins=20, alpha=0.5, label='ultimate plan')\n",
    "\n",
    "\n",
    "plt.xlabel('Messages', size=12)\n",
    "plt.title('Messages per month')\n",
    "plt.legend(loc='upper right');"
   ]
  },
  {
   "cell_type": "code",
   "execution_count": 45,
   "metadata": {},
   "outputs": [
    {
     "data": {
      "image/png": "[encoded data removed]",
      "text/plain": [
       "<Figure size 576x432 with 1 Axes>"
      ]
     },
     "metadata": {
      "needs_background": "light"
     },
     "output_type": "display_data"
    }
   ],
   "source": [
    "plt.figure(figsize=(8,6))\n",
    "plt.hist([surf_df['messages_sent_per_month'], ultimate_df['messages_sent_per_month']],  label= ['surf plan', 'ultimate plan'], density = True)\n",
    "plt.legend()\n",
    "plt.ylabel('Frequency Density')\n",
    "plt.xlabel('Messages')\n",
    "plt.title('Messages per month');"
   ]
  },
  {
   "cell_type": "markdown",
   "metadata": {},
   "source": [
    "The customers behavior for both plans follow a similar trend. Most customers of both plans aren't texting a lot. The surf plans customers sent more messages on total. There were more surf plan customers that sent messages."
   ]
  },
  {
   "cell_type": "markdown",
   "metadata": {},
   "source": [
    "**Find the volume of data the users of each plan require per month:**"
   ]
  },
  {
   "cell_type": "code",
   "execution_count": 46,
   "metadata": {},
   "outputs": [
    {
     "data": {
      "text/html": [
       "<div>\n",
       "<style scoped>\n",
       "    .dataframe tbody tr th:only-of-type {\n",
       "        vertical-align: middle;\n",
       "    }\n",
       "\n",
       "    .dataframe tbody tr th {\n",
       "        vertical-align: top;\n",
       "    }\n",
       "\n",
       "    .dataframe thead th {\n",
       "        text-align: right;\n",
       "    }\n",
       "</style>\n",
       "<table border=\"1\" class=\"dataframe\">\n",
       "  <thead>\n",
       "    <tr style=\"text-align: right;\">\n",
       "      <th></th>\n",
       "      <th>count</th>\n",
       "      <th>mean</th>\n",
       "      <th>std</th>\n",
       "      <th>min</th>\n",
       "      <th>25%</th>\n",
       "      <th>50%</th>\n",
       "      <th>75%</th>\n",
       "      <th>max</th>\n",
       "      <th>var</th>\n",
       "    </tr>\n",
       "    <tr>\n",
       "      <th>plan</th>\n",
       "      <th></th>\n",
       "      <th></th>\n",
       "      <th></th>\n",
       "      <th></th>\n",
       "      <th></th>\n",
       "      <th></th>\n",
       "      <th></th>\n",
       "      <th></th>\n",
       "      <th></th>\n",
       "    </tr>\n",
       "  </thead>\n",
       "  <tbody>\n",
       "    <tr>\n",
       "      <td>surf</td>\n",
       "      <td>1573.0</td>\n",
       "      <td>17.037508</td>\n",
       "      <td>8.016395</td>\n",
       "      <td>0.0</td>\n",
       "      <td>12.0</td>\n",
       "      <td>17.0</td>\n",
       "      <td>21.0</td>\n",
       "      <td>71.0</td>\n",
       "      <td>64.262587</td>\n",
       "    </tr>\n",
       "    <tr>\n",
       "      <td>ultimate</td>\n",
       "      <td>720.0</td>\n",
       "      <td>17.719444</td>\n",
       "      <td>7.865289</td>\n",
       "      <td>0.0</td>\n",
       "      <td>13.0</td>\n",
       "      <td>17.0</td>\n",
       "      <td>22.0</td>\n",
       "      <td>47.0</td>\n",
       "      <td>61.862765</td>\n",
       "    </tr>\n",
       "  </tbody>\n",
       "</table>\n",
       "</div>"
      ],
      "text/plain": [
       "           count       mean       std  min   25%   50%   75%   max        var\n",
       "plan                                                                         \n",
       "surf      1573.0  17.037508  8.016395  0.0  12.0  17.0  21.0  71.0  64.262587\n",
       "ultimate   720.0  17.719444  7.865289  0.0  13.0  17.0  22.0  47.0  61.862765"
      ]
     },
     "execution_count": 46,
     "metadata": {},
     "output_type": "execute_result"
    }
   ],
   "source": [
    "data_req = df_merged.groupby('plan')['data_vol_gb_per_month'].describe()\n",
    "data_req['var'] = df_merged.groupby('plan')['data_vol_gb_per_month'].agg(np.var)\n",
    "data_req"
   ]
  },
  {
   "cell_type": "markdown",
   "metadata": {},
   "source": [
    "\"Ultimate\" plan users require on average more data per month. "
   ]
  },
  {
   "cell_type": "code",
   "execution_count": 47,
   "metadata": {},
   "outputs": [
    {
     "data": {
      "image/png": "[encoded data removed]",
      "text/plain": [
       "<Figure size 576x432 with 1 Axes>"
      ]
     },
     "metadata": {
      "needs_background": "light"
     },
     "output_type": "display_data"
    }
   ],
   "source": [
    "plt.figure(figsize=(8,6))\n",
    "plt.hist(surf_df['data_vol_gb_per_month'], bins=20, alpha=0.5, label='surf plan')\n",
    "plt.hist(ultimate_df['data_vol_gb_per_month'], bins=20, alpha=0.5, label='ultimate plan')\n",
    "\n",
    "\n",
    "plt.xlabel('Data', size=12)\n",
    "plt.title('Data per month')\n",
    "plt.legend(loc='upper right');"
   ]
  },
  {
   "cell_type": "markdown",
   "metadata": {},
   "source": [
    "**The histogram shows that the surf plan had more users that actively consumed data. Both plans peak is around the same number of GB required - 17 GB, and the overall amounts for both plans follow a similar trend. There are ultimate plan users that required large amount of data - more than 25 GB, which is a rare occurrence among the surf plan users.**"
   ]
  },
  {
   "cell_type": "code",
   "execution_count": 48,
   "metadata": {},
   "outputs": [
    {
     "data": {
      "image/png": "[encoded data removed]",
      "text/plain": [
       "<Figure size 576x432 with 1 Axes>"
      ]
     },
     "metadata": {
      "needs_background": "light"
     },
     "output_type": "display_data"
    }
   ],
   "source": [
    "plt.figure(figsize=(8,6))\n",
    "plt.hist([surf_df['data_vol_gb_per_month'], ultimate_df['data_vol_gb_per_month']],  label= ['surf plan', 'ultimate plan'], density = True)\n",
    "plt.legend()\n",
    "plt.ylabel('Frequency Density')\n",
    "plt.xlabel('Data')\n",
    "plt.title('Data per month');"
   ]
  },
  {
   "cell_type": "markdown",
   "metadata": {},
   "source": [
    "The customers behavior for both plans follow a similar trend. Both peaks at around 18 GB of data. The surf plans customers used more data in total. There were more surf plan customers that used data."
   ]
  },
  {
   "cell_type": "markdown",
   "metadata": {},
   "source": [
    "### Conclusion"
   ]
  },
  {
   "cell_type": "markdown",
   "metadata": {},
   "source": [
    "In this part I carried out Exploratory Data Analysis and described the customers behavior and compared both plans. \n",
    "\n",
    "\"surf\" customer averages per month are: 57 calls, 406 total call minutes duration, 27 text messages and 16 GB of data. \"ultimate\" customer averages per month are: 58 calls, 411 total call minutes duration, 32 text messages and 17 GB of data.\n",
    "\n",
    "* Starting March 2018, \"surf\" plan generated more monthly revenue compared to \"ultimate\".\n",
    "* Both plans monthly revenues increased with every month. \n",
    "\n",
    "I plotted distribution and frequency density histograms both for both plans:\n",
    "\n",
    "* Large amount of \"surf\" customers exceed their plan limits, which result in additional revenues. On the other hand, \"ultimate\" customers rarely exceed their plan limits, resulting in less amount of customers that generate additional revenue.\n",
    "* In general, customers of both plans usage pattern is very similar. Again, because of that, the \"surf\" customers generate additional revenue for exceeding their limits.\n",
    "* On average, \"ultimate\" customer generate more revenue per month compared to \"surf\" customer. But in total, \"surf\" customers generate more revenue."
   ]
  },
  {
   "cell_type": "markdown",
   "metadata": {},
   "source": [
    "### 4. Test the hypotheses"
   ]
  },
  {
   "cell_type": "markdown",
   "metadata": {},
   "source": [
    "**Hypothesis test 1**"
   ]
  },
  {
   "cell_type": "markdown",
   "metadata": {},
   "source": [
    "* H0 (null hypothesis): average revenue per month for ultimate users equals average revenue per month for surf users\n",
    "* H1 (alternative hypothesis): average revenue per month for ultimate users does not equal average revenue per month for surf users"
   ]
  },
  {
   "cell_type": "code",
   "execution_count": 49,
   "metadata": {},
   "outputs": [
    {
     "name": "stdout",
     "output_type": "stream",
     "text": [
      "Average revenue: surf = 50.0, ultimate = 70.0\n"
     ]
    }
   ],
   "source": [
    "print('Average revenue: surf = {}, ultimate = {}'.format(round(np.mean(surf_df[\"monthly_user_revenue\"]),0)\n",
    "                                                         ,round(np.mean(ultimate_df[\"monthly_user_revenue\"]),0)))"
   ]
  },
  {
   "cell_type": "markdown",
   "metadata": {},
   "source": [
    "We use a significance level of 0.05. We use a t-test to test the hypothesis because it is used to compare the means of two groups in order to determine whether two groups are different from one another."
   ]
  },
  {
   "cell_type": "code",
   "execution_count": 50,
   "metadata": {},
   "outputs": [
    {
     "name": "stdout",
     "output_type": "stream",
     "text": [
      "The p-value is: 1.2566702157211913e-98\n",
      "We reject the null hypohesis\n"
     ]
    }
   ],
   "source": [
    "ultimate = ultimate_df['monthly_user_revenue']\n",
    "surf = surf_df['monthly_user_revenue']\n",
    "\n",
    "alpha = 0.05\n",
    "\n",
    "results = st.ttest_ind(ultimate, surf, equal_var = False)\n",
    "print('The p-value is:',results.pvalue)\n",
    "\n",
    "if (results.pvalue < alpha):\n",
    "    print('We reject the null hypohesis')\n",
    "else:\n",
    "    print('We fail to reject the null hypothesis')"
   ]
  },
  {
   "cell_type": "markdown",
   "metadata": {},
   "source": [
    "**We reject the null hypothesis. Our analysis suggest that average revenue from users of Ultimate and Surf calling plans differs.**"
   ]
  },
  {
   "cell_type": "markdown",
   "metadata": {},
   "source": [
    "**Hypothesis test 2**"
   ]
  },
  {
   "cell_type": "markdown",
   "metadata": {},
   "source": [
    "* H0 (null hypothesis): average revenue for users in NY-NJ areas equals average revenue for users from other regions\n",
    "* H1 (alternative hypothesis): average revenue for users in NY-NJ areas does not equal average revenue for users from other regions"
   ]
  },
  {
   "cell_type": "code",
   "execution_count": 51,
   "metadata": {},
   "outputs": [
    {
     "name": "stdout",
     "output_type": "stream",
     "text": [
      "Average revenue: NY-NJ = 63.0, Not NY-NJ = 67.0\n"
     ]
    }
   ],
   "source": [
    "nynj = df_merged.query('city == \"New York-Newark-Jersey City, NY-NJ-PA MSA\"')['monthly_user_revenue']\n",
    "not_nynj = df_merged.query('city != \"New York-Newark-Jersey City, NY-NJ-PA MSA\"')['monthly_user_revenue'] \n",
    "print('Average revenue: NY-NJ = {}, Not NY-NJ = {}'.format(round(np.mean(nynj),0)\n",
    "                                                         ,round(np.mean(not_nynj),0)))"
   ]
  },
  {
   "cell_type": "markdown",
   "metadata": {},
   "source": [
    " We use a significance level (or alpha) of 0.05. We use a t-test to test the hypothesis because it is used to compare the means of two groups in order to determine whether two groups are different from one another."
   ]
  },
  {
   "cell_type": "code",
   "execution_count": 52,
   "metadata": {},
   "outputs": [
    {
     "name": "stdout",
     "output_type": "stream",
     "text": [
      "The p-value is: 0.08381531697981721\n",
      "We fail to reject the null hypothesis\n"
     ]
    }
   ],
   "source": [
    "alpha = 0.05\n",
    "results = st.ttest_ind(nynj, not_nynj, equal_var = False)\n",
    "print('The p-value is:',results.pvalue)\n",
    "\n",
    "if (results.pvalue < alpha):\n",
    "    print('We reject the null hypohesis')\n",
    "else:\n",
    "    print('We fail to reject the null hypothesis')"
   ]
  },
  {
   "cell_type": "markdown",
   "metadata": {},
   "source": [
    "**We fail to reject the null hypothesis. Our analysis suggest that average revenue for users in NY-NJ areas does not differ from that of the users from other regions.**"
   ]
  },
  {
   "cell_type": "markdown",
   "metadata": {},
   "source": [
    "### 5. Overall conclusion"
   ]
  },
  {
   "cell_type": "markdown",
   "metadata": {},
   "source": [
    "**The main goal was to analyze behavior of 500 Megaline customers from 2018 and determine which plan brings more revenue.**\n",
    "First of all, I opened the files and studied the general information. \n",
    "Next step was to **prepare the data and make necessary calculations** so I could analyze it:\n",
    "* Converted data types of date columns to datetype. \n",
    "* Separated user_id and call/message/session id. \n",
    "* Filled the missing values of active plan users in the 'churn_date' with 2018-12-31.\n",
    "* Made sure there are no duplicate rows or date mismatches in any of the dataframes. \n",
    "* I calculated the number of calls made and minutes used per month, the number of text messages sent per month, the volume of data per month and added merged all to one dataframe. \n",
    "* Calculated the monthly revenue from each user.\n",
    "\n",
    "Then I carried out **Exploratory Data Analysis and described the customers behavior** and compared both plans: \n",
    "\n",
    "* \"surf\" customer averages per month are: 57 calls, 406 total call minutes duration, 27 text messages and 16 GB of data. \n",
    "* \"ultimate\" customer averages per month are: 58 calls, 411 total call minutes duration, 32 text messages and 17 GB of data.\n",
    "\n",
    "I found that:\n",
    "\n",
    "* Starting March 2018, \"surf\" plan generated more monthly revenue compared to \"ultimate\".\n",
    "* Both plans monthly revenues increased with every month. \n",
    "* Large amount of \"surf\" customers exceed their plan limits, which result in additional revenues. On the other hand, \"ultimate\" customers rarely exceed their plan limits, resulting in less amount of customers that generate additional revenue.\n",
    "* In general, customers of both plans usage pattern is very similar. Again, because of that, the \"surf\" customers generate additional revenue for exceeding their limits.\n",
    "* On average, \"ultimate\" customer generate more revenue per month compared to \"surf\" customer. But in total, \"surf\" customers generate more revenue.\n",
    "\n",
    "I **tested the hypotheses** and found:\n",
    "* The average revenue from users of Ultimate and Surf calling plans differs.\n",
    "* The average revenue for users in NY-NJ areas does not differ from that of the users from other regions.\n",
    "\n",
    "\n",
    "**My advice to the commercial department of Megaline is to adjust the advertising budget in favor of the \"surf\" plan.**\n",
    "\n"
   ]
  },
  {
   "cell_type": "code",
   "execution_count": null,
   "metadata": {},
   "outputs": [],
   "source": []
  }
 ],
 "metadata": {
  "ExecuteTimeLog": [
   {
    "duration": 1556,
    "start_time": "2021-07-04T08:54:42.733Z"
   },
   {
    "duration": 11,
    "start_time": "2021-07-04T08:54:44.291Z"
   },
   {
    "duration": 9,
    "start_time": "2021-07-04T08:54:44.304Z"
   },
   {
    "duration": 14,
    "start_time": "2021-07-04T08:54:44.314Z"
   },
   {
    "duration": 6,
    "start_time": "2021-07-04T08:54:44.330Z"
   },
   {
    "duration": 22,
    "start_time": "2021-07-04T08:54:44.337Z"
   },
   {
    "duration": 47,
    "start_time": "2021-07-04T08:54:44.360Z"
   },
   {
    "duration": 6,
    "start_time": "2021-07-04T08:54:44.409Z"
   },
   {
    "duration": 16,
    "start_time": "2021-07-04T08:54:44.416Z"
   },
   {
    "duration": 12,
    "start_time": "2021-07-04T08:54:44.433Z"
   },
   {
    "duration": 10,
    "start_time": "2021-07-04T08:54:44.447Z"
   },
   {
    "duration": 41,
    "start_time": "2021-07-04T08:54:44.458Z"
   },
   {
    "duration": 17,
    "start_time": "2021-07-04T08:54:44.500Z"
   },
   {
    "duration": 8,
    "start_time": "2021-07-04T08:54:44.518Z"
   },
   {
    "duration": 12,
    "start_time": "2021-07-04T08:54:44.528Z"
   },
   {
    "duration": 8,
    "start_time": "2021-07-04T08:54:44.542Z"
   },
   {
    "duration": 447,
    "start_time": "2021-07-04T08:54:44.552Z"
   },
   {
    "duration": 5,
    "start_time": "2021-07-04T08:54:45.001Z"
   },
   {
    "duration": 21,
    "start_time": "2021-07-04T08:54:45.008Z"
   },
   {
    "duration": 148,
    "start_time": "2021-07-04T08:54:45.030Z"
   },
   {
    "duration": 48,
    "start_time": "2021-07-04T08:54:45.179Z"
   },
   {
    "duration": 34,
    "start_time": "2021-07-04T08:54:45.229Z"
   },
   {
    "duration": 32,
    "start_time": "2021-07-04T08:54:45.266Z"
   },
   {
    "duration": 24,
    "start_time": "2021-07-04T08:54:45.300Z"
   },
   {
    "duration": 20,
    "start_time": "2021-07-04T08:54:45.326Z"
   },
   {
    "duration": 81,
    "start_time": "2021-07-04T08:54:45.347Z"
   },
   {
    "duration": 21,
    "start_time": "2021-07-04T08:54:45.430Z"
   },
   {
    "duration": 39,
    "start_time": "2021-07-04T08:54:45.453Z"
   },
   {
    "duration": 24,
    "start_time": "2021-07-04T08:54:45.493Z"
   },
   {
    "duration": 13,
    "start_time": "2021-07-04T08:54:45.519Z"
   },
   {
    "duration": 59388,
    "start_time": "2021-07-04T08:54:45.534Z"
   },
   {
    "duration": 903,
    "start_time": "2021-07-04T08:55:44.923Z"
   },
   {
    "duration": 869,
    "start_time": "2021-07-04T08:55:45.828Z"
   },
   {
    "duration": 14,
    "start_time": "2021-07-04T08:55:46.698Z"
   },
   {
    "duration": 17,
    "start_time": "2021-07-04T08:55:46.713Z"
   },
   {
    "duration": 16,
    "start_time": "2021-07-04T08:55:46.731Z"
   },
   {
    "duration": 49,
    "start_time": "2021-07-04T08:55:46.748Z"
   },
   {
    "duration": 16,
    "start_time": "2021-07-04T08:55:46.799Z"
   },
   {
    "duration": 276,
    "start_time": "2021-07-04T08:55:46.816Z"
   },
   {
    "duration": 251,
    "start_time": "2021-07-04T08:55:47.094Z"
   },
   {
    "duration": 272,
    "start_time": "2021-07-04T08:55:47.347Z"
   },
   {
    "duration": 235,
    "start_time": "2021-07-04T08:55:47.621Z"
   },
   {
    "duration": 18,
    "start_time": "2021-07-04T08:55:47.857Z"
   },
   {
    "duration": 265,
    "start_time": "2021-07-04T08:55:47.877Z"
   },
   {
    "duration": 337,
    "start_time": "2021-07-04T08:55:48.144Z"
   },
   {
    "duration": 16,
    "start_time": "2021-07-04T08:55:48.482Z"
   },
   {
    "duration": 271,
    "start_time": "2021-07-04T08:55:48.500Z"
   },
   {
    "duration": 255,
    "start_time": "2021-07-04T08:55:48.773Z"
   },
   {
    "duration": 4,
    "start_time": "2021-07-04T08:55:49.029Z"
   },
   {
    "duration": 9,
    "start_time": "2021-07-04T08:55:49.034Z"
   },
   {
    "duration": 12,
    "start_time": "2021-07-04T08:55:49.045Z"
   },
   {
    "duration": 7,
    "start_time": "2021-07-04T08:55:49.058Z"
   },
   {
    "duration": 3397,
    "start_time": "2021-07-05T17:33:36.960Z"
   },
   {
    "duration": 26,
    "start_time": "2021-07-05T17:33:40.360Z"
   },
   {
    "duration": 72,
    "start_time": "2021-07-05T17:33:40.389Z"
   },
   {
    "duration": 91,
    "start_time": "2021-07-05T17:33:40.469Z"
   },
   {
    "duration": 11,
    "start_time": "2021-07-05T17:33:40.567Z"
   },
   {
    "duration": 82,
    "start_time": "2021-07-05T17:33:40.581Z"
   },
   {
    "duration": 87,
    "start_time": "2021-07-05T17:33:40.667Z"
   },
   {
    "duration": 15,
    "start_time": "2021-07-05T17:33:40.759Z"
   },
   {
    "duration": 17,
    "start_time": "2021-07-05T17:33:40.776Z"
   },
   {
    "duration": 28,
    "start_time": "2021-07-05T17:33:40.855Z"
   },
   {
    "duration": 10,
    "start_time": "2021-07-05T17:33:40.885Z"
   },
   {
    "duration": 83,
    "start_time": "2021-07-05T17:33:40.898Z"
   },
   {
    "duration": 91,
    "start_time": "2021-07-05T17:33:40.983Z"
   },
   {
    "duration": 11,
    "start_time": "2021-07-05T17:33:41.077Z"
   },
   {
    "duration": 74,
    "start_time": "2021-07-05T17:33:41.091Z"
   },
   {
    "duration": 5,
    "start_time": "2021-07-05T17:33:41.171Z"
   },
   {
    "duration": 1718,
    "start_time": "2021-07-05T17:33:41.179Z"
   },
   {
    "duration": 66,
    "start_time": "2021-07-05T17:33:42.900Z"
   },
   {
    "duration": 24,
    "start_time": "2021-07-05T17:33:42.971Z"
   },
   {
    "duration": 656,
    "start_time": "2021-07-05T17:33:42.998Z"
   },
   {
    "duration": 194,
    "start_time": "2021-07-05T17:33:43.663Z"
   },
   {
    "duration": 116,
    "start_time": "2021-07-05T17:33:43.867Z"
   },
   {
    "duration": 99,
    "start_time": "2021-07-05T17:33:43.986Z"
   },
   {
    "duration": 98,
    "start_time": "2021-07-05T17:33:44.087Z"
   },
   {
    "duration": 100,
    "start_time": "2021-07-05T17:33:44.188Z"
   },
   {
    "duration": 388,
    "start_time": "2021-07-05T17:33:44.290Z"
   },
   {
    "duration": 101,
    "start_time": "2021-07-05T17:33:44.681Z"
   },
   {
    "duration": 110,
    "start_time": "2021-07-05T17:33:44.785Z"
   },
   {
    "duration": 156,
    "start_time": "2021-07-05T17:33:44.898Z"
   },
   {
    "duration": 27,
    "start_time": "2021-07-05T17:33:45.057Z"
   },
   {
    "duration": 1501,
    "start_time": "2021-07-05T17:33:45.087Z"
   },
   {
    "duration": 3403,
    "start_time": "2021-07-05T17:33:46.591Z"
   },
   {
    "duration": 3693,
    "start_time": "2021-07-05T17:33:49.997Z"
   },
   {
    "duration": 87,
    "start_time": "2021-07-05T17:33:53.693Z"
   },
   {
    "duration": 91,
    "start_time": "2021-07-05T17:33:53.783Z"
   },
   {
    "duration": 90,
    "start_time": "2021-07-05T17:33:53.877Z"
   },
   {
    "duration": 110,
    "start_time": "2021-07-05T17:33:53.971Z"
   },
   {
    "duration": 90,
    "start_time": "2021-07-05T17:33:54.083Z"
   },
   {
    "duration": 1104,
    "start_time": "2021-07-05T17:33:54.176Z"
   },
   {
    "duration": 1008,
    "start_time": "2021-07-05T17:33:55.282Z"
   },
   {
    "duration": 1079,
    "start_time": "2021-07-05T17:33:56.293Z"
   },
   {
    "duration": 1295,
    "start_time": "2021-07-05T17:33:57.374Z"
   },
   {
    "duration": 98,
    "start_time": "2021-07-05T17:33:58.672Z"
   },
   {
    "duration": 1013,
    "start_time": "2021-07-05T17:33:58.773Z"
   },
   {
    "duration": 986,
    "start_time": "2021-07-05T17:33:59.789Z"
   },
   {
    "duration": 90,
    "start_time": "2021-07-05T17:34:00.778Z"
   },
   {
    "duration": 1086,
    "start_time": "2021-07-05T17:34:00.870Z"
   },
   {
    "duration": 1034,
    "start_time": "2021-07-05T17:34:01.960Z"
   },
   {
    "duration": 60,
    "start_time": "2021-07-05T17:34:02.996Z"
   },
   {
    "duration": 17,
    "start_time": "2021-07-05T17:34:03.061Z"
   },
   {
    "duration": 91,
    "start_time": "2021-07-05T17:34:03.081Z"
   },
   {
    "duration": 7,
    "start_time": "2021-07-05T17:34:03.175Z"
   }
  ],
  "kernelspec": {
   "display_name": "Python 3",
   "language": "python",
   "name": "python3"
  },
  "language_info": {
   "codemirror_mode": {
    "name": "ipython",
    "version": 3
   },
   "file_extension": ".py",
   "mimetype": "text/x-python",
   "name": "python",
   "nbconvert_exporter": "python",
   "pygments_lexer": "ipython3",
   "version": "3.8.8"
  },
  "toc": {
   "base_numbering": 1,
   "nav_menu": {},
   "number_sections": true,
   "sideBar": true,
   "skip_h1_title": true,
   "title_cell": "Table of Contents",
   "title_sidebar": "Contents",
   "toc_cell": false,
   "toc_position": {},
   "toc_section_display": true,
   "toc_window_display": false
  }
 },
 "nbformat": 4,
 "nbformat_minor": 2
}
